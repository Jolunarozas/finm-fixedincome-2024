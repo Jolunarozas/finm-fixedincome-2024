{
 "cells": [
  {
   "cell_type": "markdown",
   "metadata": {
    "jp-MarkdownHeadingCollapsed": true,
    "tags": []
   },
   "source": [
    "# Final Exam\n",
    "\n",
    "## FINM 37400 - 2024\n",
    "\n",
    "### UChicago Financial Mathematics\n",
    "\n",
    "* Mark Hendricks\n",
    "* hendricks@uchicago.edu"
   ]
  },
  {
   "cell_type": "markdown",
   "metadata": {},
   "source": [
    "***"
   ]
  },
  {
   "cell_type": "markdown",
   "metadata": {},
   "source": [
    "# Instructions"
   ]
  },
  {
   "cell_type": "markdown",
   "metadata": {},
   "source": [
    "## Please note the following:\n",
    "\n",
    "Time\n",
    "* You have 180 minutes to complete the exam.\n",
    "* For every minute late you submit the exam, you will lose one point.\n",
    "\n",
    "Submission\n",
    "* You will upload your solution to the Final Exam assignment on Canvas.\n",
    "* Your submission should be readable, (the graders can understand your answers,) and it should include all code used in your analysis in a file format that the code can be executed. (ie. .ipynb preferred, .pdf is unacceptable.)\n",
    "\n",
    "Rules\n",
    "* The exam is open-material, closed-communication.\n",
    "* You do not need to cite material from the course github repo--you are welcome to use the code posted there without citation, (only for this exam.)\n",
    "\n",
    "Advice\n",
    "* If you find any question to be unclear, state your interpretation and proceed. We will only answer questions of interpretation if there is a typo, error, etc.\n",
    "* The exam will be graded for partial credit."
   ]
  },
  {
   "cell_type": "markdown",
   "metadata": {},
   "source": [
    "## Data\n",
    "\n",
    "**All data files are found in the class github repo, in the `data` folder.**\n",
    "\n",
    "This exam makes use of the following data files:\n",
    "\n",
    "#### Section 2\n",
    "* New file: `select_maturities_2017-02-07.xlsx`\n",
    "\n",
    "#### Section 3\n",
    "* Familiar file: `famabliss_strips_2023-12-29.xlsx`"
   ]
  },
  {
   "cell_type": "markdown",
   "metadata": {},
   "source": [
    "## Scoring\n",
    "\n",
    "| Problem | Points |\n",
    "|---------|--------|\n",
    "| 1       | 25     |\n",
    "| 2       | 45     |\n",
    "| 3       | 60     |\n",
    "| 4       | 35     |\n",
    "| **Total**   | **165**|"
   ]
  },
  {
   "cell_type": "markdown",
   "metadata": {},
   "source": [
    "***"
   ]
  },
  {
   "cell_type": "markdown",
   "metadata": {},
   "source": [
    "# 1. Long-Short Trades"
   ]
  },
  {
   "cell_type": "markdown",
   "metadata": {},
   "source": [
    "Consider the following market data as of `Dec 29, 2023`.\n",
    "\n",
    "The table below shows two Treasury securities, a T-note and a T-bond. They mature on the same date."
   ]
  },
  {
   "cell_type": "code",
   "execution_count": 1,
   "metadata": {},
   "outputs": [
    {
     "data": {
      "text/html": [
       "<div>\n",
       "<style scoped>\n",
       "    .dataframe tbody tr th:only-of-type {\n",
       "        vertical-align: middle;\n",
       "    }\n",
       "\n",
       "    .dataframe tbody tr th {\n",
       "        vertical-align: top;\n",
       "    }\n",
       "\n",
       "    .dataframe thead th {\n",
       "        text-align: right;\n",
       "    }\n",
       "</style>\n",
       "<table border=\"1\" class=\"dataframe\">\n",
       "  <thead>\n",
       "    <tr style=\"text-align: right;\">\n",
       "      <th></th>\n",
       "      <th>207391</th>\n",
       "      <th>204095</th>\n",
       "    </tr>\n",
       "  </thead>\n",
       "  <tbody>\n",
       "    <tr>\n",
       "      <th>issue date</th>\n",
       "      <td>2019-08-15</td>\n",
       "      <td>1999-08-15</td>\n",
       "    </tr>\n",
       "    <tr>\n",
       "      <th>maturity date</th>\n",
       "      <td>2029-08-15</td>\n",
       "      <td>2029-08-15</td>\n",
       "    </tr>\n",
       "    <tr>\n",
       "      <th>coupon rate</th>\n",
       "      <td>0.01625</td>\n",
       "      <td>0.06125</td>\n",
       "    </tr>\n",
       "    <tr>\n",
       "      <th>clean price</th>\n",
       "      <td>89.03125</td>\n",
       "      <td>111.0391</td>\n",
       "    </tr>\n",
       "    <tr>\n",
       "      <th>accrued interest</th>\n",
       "      <td>0.6005</td>\n",
       "      <td>2.2636</td>\n",
       "    </tr>\n",
       "    <tr>\n",
       "      <th>ytm</th>\n",
       "      <td>0.037677</td>\n",
       "      <td>0.038784</td>\n",
       "    </tr>\n",
       "    <tr>\n",
       "      <th>duration</th>\n",
       "      <td>5.3494</td>\n",
       "      <td>4.7967</td>\n",
       "    </tr>\n",
       "  </tbody>\n",
       "</table>\n",
       "</div>"
      ],
      "text/plain": [
       "                      207391      204095\n",
       "issue date        2019-08-15  1999-08-15\n",
       "maturity date     2029-08-15  2029-08-15\n",
       "coupon rate          0.01625     0.06125\n",
       "clean price         89.03125    111.0391\n",
       "accrued interest      0.6005      2.2636\n",
       "ytm                 0.037677    0.038784\n",
       "duration              5.3494      4.7967"
      ]
     },
     "execution_count": 1,
     "metadata": {},
     "output_type": "execute_result"
    }
   ],
   "source": [
    "import pandas as pd\n",
    "import numpy as np\n",
    "import matplotlib.pyplot as plt\n",
    "import Help_Functions as hf\n",
    "\n",
    "summary = pd.DataFrame(index=[],columns = [207391,204095],dtype=float)\n",
    "summary.loc['issue date'] = ['2019-08-15','1999-08-15']\n",
    "summary.loc['maturity date'] = ['2029-08-15','2029-08-15']\n",
    "summary.loc['coupon rate'] = [.01625, .06125]\n",
    "summary.loc['clean price'] = [89.03125,111.0391]\n",
    "summary.loc['accrued interest'] = [.6005, 2.2636]\n",
    "summary.loc['ytm'] = [.037677, .038784]\n",
    "summary.loc['duration'] = [5.3494,4.7967]\n",
    "summary"
   ]
  },
  {
   "cell_type": "markdown",
   "metadata": {},
   "source": [
    "### 1.1. (5pts)\n",
    "\n",
    "Explain the long-short trade you would enter based on the market data above, without any further calculation. "
   ]
  },
  {
   "cell_type": "markdown",
   "metadata": {},
   "source": [
    "*Answer :* Giving that both bonds have the same maturity, but different YTM, this could indicate a trade opportunity. In which we should take a long position on the bong with the higher YTM (``204095`` , YTM = 3.8784\\%) and a short position on the bond with the lowerest YTM (``207391`` , YTM = 3.7577\\%). Both should pay coupons at the same time (every 6m), with the long position we should recieved 6.125/2 and for the short position we should pay 1.625/2."
   ]
  },
  {
   "cell_type": "markdown",
   "metadata": {},
   "source": [
    "### 1.2. (5pts)\n",
    "\n",
    "Size your trade.\n",
    "* Suppose the long side is set to $100 million market value. \n",
    "* Size the short to be duration-neutral.\n",
    "\n",
    "Report the market value in the short-side of the trade and the number of long and short contracts."
   ]
  },
  {
   "cell_type": "code",
   "execution_count": 2,
   "metadata": {},
   "outputs": [],
   "source": [
    "Long_position = 100e6\n",
    "long_key = summary.loc['ytm'].astype('float64').idxmax()\n",
    "short_key = summary.loc['ytm'].astype('float64').idxmin()\n",
    "\n",
    "summary.loc['dirty price'] = summary.loc[\"clean price\"] + summary.loc[\"accrued interest\"]\n",
    "summary.loc['modified duration'] = summary.loc['duration'] / (1 + summary.loc['ytm']/2)\n",
    "hedge_result, hedge_ratio = hf.calculate_hedge_position(summary, long_key, short_key, long_position=Long_position, leverage=1)"
   ]
  },
  {
   "cell_type": "code",
   "execution_count": 3,
   "metadata": {},
   "outputs": [
    {
     "name": "stdout",
     "output_type": "stream",
     "text": [
      "Hedge Ratio - Dollar duration ratio: -1.13\n"
     ]
    },
    {
     "data": {
      "text/html": [
       "<style type=\"text/css\">\n",
       "</style>\n",
       "<table id=\"T_76355\">\n",
       "  <thead>\n",
       "    <tr>\n",
       "      <th class=\"blank level0\" >&nbsp;</th>\n",
       "      <th id=\"T_76355_level0_col0\" class=\"col_heading level0 col0\" >Dollar_Duration</th>\n",
       "      <th id=\"T_76355_level0_col1\" class=\"col_heading level0 col1\" >dirty price</th>\n",
       "      <th id=\"T_76355_level0_col2\" class=\"col_heading level0 col2\" >Assets</th>\n",
       "      <th id=\"T_76355_level0_col3\" class=\"col_heading level0 col3\" >Contracts</th>\n",
       "    </tr>\n",
       "  </thead>\n",
       "  <tbody>\n",
       "    <tr>\n",
       "      <th id=\"T_76355_level0_row0\" class=\"row_heading level0 row0\" >204095</th>\n",
       "      <td id=\"T_76355_row0_col0\" class=\"data row0 col0\" >543.48</td>\n",
       "      <td id=\"T_76355_row0_col1\" class=\"data row0 col1\" >113.30</td>\n",
       "      <td id=\"T_76355_row0_col2\" class=\"data row0 col2\" >100,000,000.00</td>\n",
       "      <td id=\"T_76355_row0_col3\" class=\"data row0 col3\" >882,591.50</td>\n",
       "    </tr>\n",
       "    <tr>\n",
       "      <th id=\"T_76355_level0_row1\" class=\"row_heading level0 row1\" >207391</th>\n",
       "      <td id=\"T_76355_row1_col0\" class=\"data row1 col0\" >479.48</td>\n",
       "      <td id=\"T_76355_row1_col1\" class=\"data row1 col1\" >89.63</td>\n",
       "      <td id=\"T_76355_row1_col2\" class=\"data row1 col2\" >-89,668,000.15</td>\n",
       "      <td id=\"T_76355_row1_col3\" class=\"data row1 col3\" >-1,000,404.43</td>\n",
       "    </tr>\n",
       "  </tbody>\n",
       "</table>\n"
      ],
      "text/plain": [
       "<pandas.io.formats.style.Styler at 0x20d45571eb0>"
      ]
     },
     "metadata": {},
     "output_type": "display_data"
    }
   ],
   "source": [
    "print(f\"Hedge Ratio - Dollar duration ratio: {hedge_ratio:.2f}\")\n",
    "display(hedge_result[[\"Dollar_Duration\", \"dirty price\",\"Assets\", \"Contracts\"]].dropna().style.format(\"{:,.2f}\"))"
   ]
  },
  {
   "cell_type": "markdown",
   "metadata": {},
   "source": [
    "### 1.3. (5pts)\n",
    "\n",
    "What are the risks of this trade in the short-term and in the long-term?"
   ]
  },
  {
   "cell_type": "markdown",
   "metadata": {},
   "source": [
    "*Answer :* \n",
    "\n",
    "- The main risk in the **short-term** is that the spread increase more (increase the YTM of the long position and/or descrease the YTM of short position), resulting in a loss in the MTM, dificulting keep the position due to financing problems, this could result in unwind the position \n",
    "\n",
    "- In the **long term**, there is any market risk. If we hold this spread until maturity, we will get a guaranteed profit given the difference in YTM "
   ]
  },
  {
   "cell_type": "markdown",
   "metadata": {},
   "source": [
    "### 1.4. (5pts)\n",
    "\n",
    "Use **modified duration**--not the Macauley duration reported above--to estimate how much pnl will be earned if the securities converge (symmetrically)."
   ]
  },
  {
   "cell_type": "code",
   "execution_count": 4,
   "metadata": {},
   "outputs": [],
   "source": [
    "hedge_result, hedge_ratio = hf.calculate_hedge_position(summary, long_key, short_key, long_position=Long_position, leverage=1, spread = (summary.loc['ytm',long_key] - summary.loc['ytm',short_key]))"
   ]
  },
  {
   "cell_type": "code",
   "execution_count": 5,
   "metadata": {},
   "outputs": [
    {
     "data": {
      "text/html": [
       "<style type=\"text/css\">\n",
       "</style>\n",
       "<table id=\"T_63adf\">\n",
       "  <thead>\n",
       "    <tr>\n",
       "      <th class=\"blank level0\" >&nbsp;</th>\n",
       "      <th id=\"T_63adf_level0_col0\" class=\"col_heading level0 col0\" >Mod Duration</th>\n",
       "      <th id=\"T_63adf_level0_col1\" class=\"col_heading level0 col1\" >YTM Change</th>\n",
       "      <th id=\"T_63adf_level0_col2\" class=\"col_heading level0 col2\" >Change in Dirty Price</th>\n",
       "      <th id=\"T_63adf_level0_col3\" class=\"col_heading level0 col3\" >PnL</th>\n",
       "      <th id=\"T_63adf_level0_col4\" class=\"col_heading level0 col4\" >Return</th>\n",
       "    </tr>\n",
       "  </thead>\n",
       "  <tbody>\n",
       "    <tr>\n",
       "      <th id=\"T_63adf_level0_row0\" class=\"row_heading level0 row0\" >204095</th>\n",
       "      <td id=\"T_63adf_row0_col0\" class=\"data row0 col0\" >4.71</td>\n",
       "      <td id=\"T_63adf_row0_col1\" class=\"data row0 col1\" >-0.000553</td>\n",
       "      <td id=\"T_63adf_row0_col2\" class=\"data row0 col2\" >0.30</td>\n",
       "      <td id=\"T_63adf_row0_col3\" class=\"data row0 col3\" >260,446.76</td>\n",
       "      <td id=\"T_63adf_row0_col4\" class=\"data row0 col4\" >0.001373</td>\n",
       "    </tr>\n",
       "    <tr>\n",
       "      <th id=\"T_63adf_level0_row1\" class=\"row_heading level0 row1\" >207391</th>\n",
       "      <td id=\"T_63adf_row1_col0\" class=\"data row1 col0\" >5.25</td>\n",
       "      <td id=\"T_63adf_row1_col1\" class=\"data row1 col1\" >0.000553</td>\n",
       "      <td id=\"T_63adf_row1_col2\" class=\"data row1 col2\" >-0.26</td>\n",
       "      <td id=\"T_63adf_row1_col3\" class=\"data row1 col3\" >260,588.25</td>\n",
       "      <td id=\"T_63adf_row1_col4\" class=\"data row1 col4\" >0.001374</td>\n",
       "    </tr>\n",
       "    <tr>\n",
       "      <th id=\"T_63adf_level0_row2\" class=\"row_heading level0 row2\" >total</th>\n",
       "      <td id=\"T_63adf_row2_col0\" class=\"data row2 col0\" >nan</td>\n",
       "      <td id=\"T_63adf_row2_col1\" class=\"data row2 col1\" >nan</td>\n",
       "      <td id=\"T_63adf_row2_col2\" class=\"data row2 col2\" >nan</td>\n",
       "      <td id=\"T_63adf_row2_col3\" class=\"data row2 col3\" >521,035.01</td>\n",
       "      <td id=\"T_63adf_row2_col4\" class=\"data row2 col4\" >0.002747</td>\n",
       "    </tr>\n",
       "  </tbody>\n",
       "</table>\n"
      ],
      "text/plain": [
       "<pandas.io.formats.style.Styler at 0x20d45571eb0>"
      ]
     },
     "execution_count": 5,
     "metadata": {},
     "output_type": "execute_result"
    }
   ],
   "source": [
    "hedge_result[[\"Mod Duration\",\"YTM Change\",\"Change in Dirty Price\",\"PnL\",\"Return\"]].style.format(\"{:,.2f}\", subset=[\"Mod Duration\",\"Change in Dirty Price\",\"PnL\"])"
   ]
  },
  {
   "cell_type": "markdown",
   "metadata": {},
   "source": [
    "### 1.5. (5pts)\n",
    "\n",
    "For which of these securities will the duration approximation be less accurate? Explain."
   ]
  },
  {
   "cell_type": "markdown",
   "metadata": {},
   "source": [
    "*Answer:* The duration approximation will be less accurate for the bond with the higher duration (lower coupon rate), due to higher duration the convexity of the curve would be higher"
   ]
  },
  {
   "cell_type": "code",
   "execution_count": 6,
   "metadata": {},
   "outputs": [
    {
     "data": {
      "text/plain": [
       "207391"
      ]
     },
     "execution_count": 6,
     "metadata": {},
     "output_type": "execute_result"
    }
   ],
   "source": [
    "summary.loc['duration'].astype('float64').idxmax()"
   ]
  },
  {
   "cell_type": "markdown",
   "metadata": {},
   "source": [
    "***"
   ]
  },
  {
   "cell_type": "markdown",
   "metadata": {},
   "source": [
    "# 2. Extracting Curves"
   ]
  },
  {
   "cell_type": "markdown",
   "metadata": {},
   "source": [
    "Use the selected treasury quotes in the file, `select_maturities_2017-02-07.xlsx`.\n",
    "\n",
    "* Market quots are provided for treasury securities expiring approximately every six months over the next ten years.\n",
    "* You are welcome to assume that they mature at exaclty six-year increments or to use the exact dates.\n",
    "* Consider the `price` column to represent the dirty mid price. Use it as quoted, without further adjustment."
   ]
  },
  {
   "cell_type": "code",
   "execution_count": 7,
   "metadata": {},
   "outputs": [],
   "source": [
    "paht = \"../data/select_maturities_2017-02-07.xlsx\"\n",
    "select_maturities = pd.read_excel(paht, index_col=0)\n",
    "select_maturities[\"type\"] = \"Treasury\"\n",
    "select_maturities.rename(columns={\"date\":\"quote date\"}, inplace=True)\n",
    "current_date = select_maturities[\"quote date\"].iloc[0]"
   ]
  },
  {
   "cell_type": "markdown",
   "metadata": {},
   "source": [
    "### 2.1 (10pts)\n",
    "\n",
    "Bootstrap the spot curve. Report it in both...\n",
    "* discount factors, $Z$\n",
    "* (semiannually compounded) discount rates, $r$"
   ]
  },
  {
   "cell_type": "code",
   "execution_count": 8,
   "metadata": {},
   "outputs": [],
   "source": [
    "select_maturities[\"dirty price\"] = ((select_maturities[\"ask\"] + select_maturities[\"bid\"]) / 2) + select_maturities[\"accrint\"] "
   ]
  },
  {
   "cell_type": "code",
   "execution_count": 9,
   "metadata": {},
   "outputs": [],
   "source": [
    "RESTRICT_YLD = True\n",
    "RESTRICT_TIPS = True\n",
    "\n",
    "RESTRICT_DTS_MATURING = True\n",
    "RESTRICT_REDUNDANT = True\n",
    "\n",
    "data = hf.filter_treasuries(select_maturities, t_date=current_date, filter_yld = RESTRICT_YLD, filter_tips = RESTRICT_TIPS, drop_duplicate_maturities=RESTRICT_REDUNDANT)\n",
    "CF = hf.filter_treasury_cashflows(hf.calc_cashflows(data, adj_end_month=True).drop(\"2017-02-28\", axis = 1),filter_maturity_dates=RESTRICT_DTS_MATURING)\n",
    "\n",
    "\n",
    "prices = select_maturities.loc[data.index, \"dirty price\"]\n",
    "discount_dataframe = pd.DataFrame( np.linalg.inv(CF) @ prices, index=select_maturities[\"ttm\"].values, columns=[\"Discount_factor_spot\"])\n",
    "discount_dataframe[\"Spot_continuous_rate\"] = -np.log(discount_dataframe[\"Discount_factor_spot\"]) / discount_dataframe.index\n",
    "discount_dataframe[\"Spot_semianual_rate\"] =  hf.compound_rate(discount_dataframe[\"Spot_continuous_rate\"],None,2)"
   ]
  },
  {
   "cell_type": "code",
   "execution_count": 10,
   "metadata": {},
   "outputs": [
    {
     "data": {
      "text/html": [
       "<style type=\"text/css\">\n",
       "</style>\n",
       "<table id=\"T_df16d\">\n",
       "  <thead>\n",
       "    <tr>\n",
       "      <th class=\"blank level0\" >&nbsp;</th>\n",
       "      <th id=\"T_df16d_level0_col0\" class=\"col_heading level0 col0\" >Spot_continuous_rate</th>\n",
       "      <th id=\"T_df16d_level0_col1\" class=\"col_heading level0 col1\" >Discount_factor_spot</th>\n",
       "    </tr>\n",
       "  </thead>\n",
       "  <tbody>\n",
       "    <tr>\n",
       "      <th id=\"T_df16d_level0_row0\" class=\"row_heading level0 row0\" >0.561259</th>\n",
       "      <td id=\"T_df16d_row0_col0\" class=\"data row0 col0\" >0.00127</td>\n",
       "      <td id=\"T_df16d_row0_col1\" class=\"data row0 col1\" >0.99929</td>\n",
       "    </tr>\n",
       "    <tr>\n",
       "      <th id=\"T_df16d_level0_row1\" class=\"row_heading level0 row1\" >1.056810</th>\n",
       "      <td id=\"T_df16d_row1_col0\" class=\"data row1 col0\" >0.00532</td>\n",
       "      <td id=\"T_df16d_row1_col1\" class=\"data row1 col1\" >0.99439</td>\n",
       "    </tr>\n",
       "    <tr>\n",
       "      <th id=\"T_df16d_level0_row2\" class=\"row_heading level0 row2\" >1.560575</th>\n",
       "      <td id=\"T_df16d_row2_col0\" class=\"data row2 col0\" >0.00797</td>\n",
       "      <td id=\"T_df16d_row2_col1\" class=\"data row2 col1\" >0.98764</td>\n",
       "    </tr>\n",
       "    <tr>\n",
       "      <th id=\"T_df16d_level0_row3\" class=\"row_heading level0 row3\" >2.056126</th>\n",
       "      <td id=\"T_df16d_row3_col0\" class=\"data row3 col0\" >0.00842</td>\n",
       "      <td id=\"T_df16d_row3_col1\" class=\"data row3 col1\" >0.98284</td>\n",
       "    </tr>\n",
       "    <tr>\n",
       "      <th id=\"T_df16d_level0_row4\" class=\"row_heading level0 row4\" >2.559890</th>\n",
       "      <td id=\"T_df16d_row4_col0\" class=\"data row4 col0\" >0.01018</td>\n",
       "      <td id=\"T_df16d_row4_col1\" class=\"data row4 col1\" >0.97428</td>\n",
       "    </tr>\n",
       "    <tr>\n",
       "      <th id=\"T_df16d_level0_row5\" class=\"row_heading level0 row5\" >3.058179</th>\n",
       "      <td id=\"T_df16d_row5_col0\" class=\"data row5 col0\" >0.01235</td>\n",
       "      <td id=\"T_df16d_row5_col1\" class=\"data row5 col1\" >0.96293</td>\n",
       "    </tr>\n",
       "    <tr>\n",
       "      <th id=\"T_df16d_level0_row6\" class=\"row_heading level0 row6\" >3.561944</th>\n",
       "      <td id=\"T_df16d_row6_col0\" class=\"data row6 col0\" >0.01399</td>\n",
       "      <td id=\"T_df16d_row6_col1\" class=\"data row6 col1\" >0.95139</td>\n",
       "    </tr>\n",
       "    <tr>\n",
       "      <th id=\"T_df16d_level0_row7\" class=\"row_heading level0 row7\" >4.057495</th>\n",
       "      <td id=\"T_df16d_row7_col0\" class=\"data row7 col0\" >0.01577</td>\n",
       "      <td id=\"T_df16d_row7_col1\" class=\"data row7 col1\" >0.93802</td>\n",
       "    </tr>\n",
       "    <tr>\n",
       "      <th id=\"T_df16d_level0_row8\" class=\"row_heading level0 row8\" >4.561259</th>\n",
       "      <td id=\"T_df16d_row8_col0\" class=\"data row8 col0\" >0.01674</td>\n",
       "      <td id=\"T_df16d_row8_col1\" class=\"data row8 col1\" >0.92648</td>\n",
       "    </tr>\n",
       "    <tr>\n",
       "      <th id=\"T_df16d_level0_row9\" class=\"row_heading level0 row9\" >5.056810</th>\n",
       "      <td id=\"T_df16d_row9_col0\" class=\"data row9 col0\" >0.01710</td>\n",
       "      <td id=\"T_df16d_row9_col1\" class=\"data row9 col1\" >0.91718</td>\n",
       "    </tr>\n",
       "    <tr>\n",
       "      <th id=\"T_df16d_level0_row10\" class=\"row_heading level0 row10\" >5.560575</th>\n",
       "      <td id=\"T_df16d_row10_col0\" class=\"data row10 col0\" >0.01825</td>\n",
       "      <td id=\"T_df16d_row10_col1\" class=\"data row10 col1\" >0.90348</td>\n",
       "    </tr>\n",
       "    <tr>\n",
       "      <th id=\"T_df16d_level0_row11\" class=\"row_heading level0 row11\" >6.056126</th>\n",
       "      <td id=\"T_df16d_row11_col0\" class=\"data row11 col0\" >0.01952</td>\n",
       "      <td id=\"T_df16d_row11_col1\" class=\"data row11 col1\" >0.88851</td>\n",
       "    </tr>\n",
       "    <tr>\n",
       "      <th id=\"T_df16d_level0_row12\" class=\"row_heading level0 row12\" >6.559890</th>\n",
       "      <td id=\"T_df16d_row12_col0\" class=\"data row12 col0\" >0.02037</td>\n",
       "      <td id=\"T_df16d_row12_col1\" class=\"data row12 col1\" >0.87494</td>\n",
       "    </tr>\n",
       "    <tr>\n",
       "      <th id=\"T_df16d_level0_row13\" class=\"row_heading level0 row13\" >7.019849</th>\n",
       "      <td id=\"T_df16d_row13_col0\" class=\"data row13 col0\" >0.01994</td>\n",
       "      <td id=\"T_df16d_row13_col1\" class=\"data row13 col1\" >0.86940</td>\n",
       "    </tr>\n",
       "    <tr>\n",
       "      <th id=\"T_df16d_level0_row14\" class=\"row_heading level0 row14\" >7.518138</th>\n",
       "      <td id=\"T_df16d_row14_col0\" class=\"data row14 col0\" >0.02093</td>\n",
       "      <td id=\"T_df16d_row14_col1\" class=\"data row14 col1\" >0.85442</td>\n",
       "    </tr>\n",
       "    <tr>\n",
       "      <th id=\"T_df16d_level0_row15\" class=\"row_heading level0 row15\" >8.021903</th>\n",
       "      <td id=\"T_df16d_row15_col0\" class=\"data row15 col0\" >0.02185</td>\n",
       "      <td id=\"T_df16d_row15_col1\" class=\"data row15 col1\" >0.83920</td>\n",
       "    </tr>\n",
       "    <tr>\n",
       "      <th id=\"T_df16d_level0_row16\" class=\"row_heading level0 row16\" >8.517454</th>\n",
       "      <td id=\"T_df16d_row16_col0\" class=\"data row16 col0\" >0.02241</td>\n",
       "      <td id=\"T_df16d_row16_col1\" class=\"data row16 col1\" >0.82625</td>\n",
       "    </tr>\n",
       "    <tr>\n",
       "      <th id=\"T_df16d_level0_row17\" class=\"row_heading level0 row17\" >9.021218</th>\n",
       "      <td id=\"T_df16d_row17_col0\" class=\"data row17 col0\" >0.02303</td>\n",
       "      <td id=\"T_df16d_row17_col1\" class=\"data row17 col1\" >0.81243</td>\n",
       "    </tr>\n",
       "    <tr>\n",
       "      <th id=\"T_df16d_level0_row18\" class=\"row_heading level0 row18\" >9.516769</th>\n",
       "      <td id=\"T_df16d_row18_col0\" class=\"data row18 col0\" >0.02322</td>\n",
       "      <td id=\"T_df16d_row18_col1\" class=\"data row18 col1\" >0.80176</td>\n",
       "    </tr>\n",
       "    <tr>\n",
       "      <th id=\"T_df16d_level0_row19\" class=\"row_heading level0 row19\" >10.020534</th>\n",
       "      <td id=\"T_df16d_row19_col0\" class=\"data row19 col0\" >0.02132</td>\n",
       "      <td id=\"T_df16d_row19_col1\" class=\"data row19 col1\" >0.80765</td>\n",
       "    </tr>\n",
       "  </tbody>\n",
       "</table>\n"
      ],
      "text/plain": [
       "<pandas.io.formats.style.Styler at 0x20d470ae780>"
      ]
     },
     "execution_count": 10,
     "metadata": {},
     "output_type": "execute_result"
    }
   ],
   "source": [
    "discount_dataframe[['Spot_continuous_rate','Discount_factor_spot']].style.format(\"{:.5f}\")"
   ]
  },
  {
   "cell_type": "markdown",
   "metadata": {},
   "source": [
    "### 2.2 (10pts)\n",
    "\n",
    "Calculate the Nelson-Siegel curve using the parameters below. (Not the NS-extended; just four parameters.)\n",
    "\n",
    "Report both\n",
    "* discount factors, $Z$\n",
    "* (semiannually compounded) discount rates, $r$"
   ]
  },
  {
   "cell_type": "code",
   "execution_count": 11,
   "metadata": {},
   "outputs": [
    {
     "data": {
      "text/html": [
       "<div>\n",
       "<style scoped>\n",
       "    .dataframe tbody tr th:only-of-type {\n",
       "        vertical-align: middle;\n",
       "    }\n",
       "\n",
       "    .dataframe tbody tr th {\n",
       "        vertical-align: top;\n",
       "    }\n",
       "\n",
       "    .dataframe thead th {\n",
       "        text-align: right;\n",
       "    }\n",
       "</style>\n",
       "<table border=\"1\" class=\"dataframe\">\n",
       "  <thead>\n",
       "    <tr style=\"text-align: right;\">\n",
       "      <th></th>\n",
       "      <th>theta0</th>\n",
       "      <th>theta1</th>\n",
       "      <th>theta2</th>\n",
       "      <th>lambda1</th>\n",
       "    </tr>\n",
       "  </thead>\n",
       "  <tbody>\n",
       "    <tr>\n",
       "      <th>Nelson-Siegel parameters</th>\n",
       "      <td>0.031627</td>\n",
       "      <td>-0.025166</td>\n",
       "      <td>-0.020701</td>\n",
       "      <td>1.514887</td>\n",
       "    </tr>\n",
       "  </tbody>\n",
       "</table>\n",
       "</div>"
      ],
      "text/plain": [
       "                            theta0    theta1    theta2   lambda1\n",
       "Nelson-Siegel parameters  0.031627 -0.025166 -0.020701  1.514887"
      ]
     },
     "metadata": {},
     "output_type": "display_data"
    }
   ],
   "source": [
    "params = pd.DataFrame(columns=['Nelson-Siegel parameters'],index=['theta0', 'theta1','theta2','lambda1'],data=[0.031627,-0.025166, -0.020701, 1.514887]).T\n",
    "display(params)"
   ]
  },
  {
   "cell_type": "code",
   "execution_count": 12,
   "metadata": {},
   "outputs": [],
   "source": [
    "def discount_factor_nelson_siegel(params, maturity):\n",
    "    \"\"\"\n",
    "    Calculate the discount factor using the Nelson-Siegel model.\n",
    "\n",
    "    :param params: List of parameters [beta0, beta1, beta2, lambda]\n",
    "    :param maturity: Time to maturity in years (scalar or array)\n",
    "    :return: Discount factor (scalar or array)\n",
    "    \"\"\"\n",
    "    beta0, beta1, beta2, lambd = params\n",
    "    num = (1 - np.exp(-maturity / lambd))\n",
    "    denom = (maturity / lambd)\n",
    "    \n",
    "    yield_curve = beta0 + (beta1 + beta2) * (num / denom) - beta2 * np.exp(-maturity / lambd)\n",
    "    return np.exp(-yield_curve * maturity)"
   ]
  },
  {
   "cell_type": "code",
   "execution_count": null,
   "metadata": {},
   "outputs": [
    {
     "data": {
      "text/html": [
       "<style type=\"text/css\">\n",
       "</style>\n",
       "<table id=\"T_41bc7\">\n",
       "  <thead>\n",
       "    <tr>\n",
       "      <th class=\"blank level0\" >&nbsp;</th>\n",
       "      <th id=\"T_41bc7_level0_col0\" class=\"col_heading level0 col0\" >Continuously_Rate</th>\n",
       "      <th id=\"T_41bc7_level0_col1\" class=\"col_heading level0 col1\" >SemiAnual_Rate_NS</th>\n",
       "      <th id=\"T_41bc7_level0_col2\" class=\"col_heading level0 col2\" >Discount Factor</th>\n",
       "    </tr>\n",
       "  </thead>\n",
       "  <tbody>\n",
       "    <tr>\n",
       "      <th id=\"T_41bc7_level0_row0\" class=\"row_heading level0 row0\" >0.561259</th>\n",
       "      <td id=\"T_41bc7_row0_col0\" class=\"data row0 col0\" >0.007590</td>\n",
       "      <td id=\"T_41bc7_row0_col1\" class=\"data row0 col1\" >0.007604</td>\n",
       "      <td id=\"T_41bc7_row0_col2\" class=\"data row0 col2\" >0.995749</td>\n",
       "    </tr>\n",
       "    <tr>\n",
       "      <th id=\"T_41bc7_level0_row1\" class=\"row_heading level0 row1\" >1.056810</th>\n",
       "      <td id=\"T_41bc7_row1_col0\" class=\"data row1 col0\" >0.008911</td>\n",
       "      <td id=\"T_41bc7_row1_col1\" class=\"data row1 col1\" >0.008931</td>\n",
       "      <td id=\"T_41bc7_row1_col2\" class=\"data row1 col2\" >0.990627</td>\n",
       "    </tr>\n",
       "    <tr>\n",
       "      <th id=\"T_41bc7_level0_row2\" class=\"row_heading level0 row2\" >1.560575</th>\n",
       "      <td id=\"T_41bc7_row2_col0\" class=\"data row2 col0\" >0.010385</td>\n",
       "      <td id=\"T_41bc7_row2_col1\" class=\"data row2 col1\" >0.010412</td>\n",
       "      <td id=\"T_41bc7_row2_col2\" class=\"data row2 col2\" >0.983924</td>\n",
       "    </tr>\n",
       "    <tr>\n",
       "      <th id=\"T_41bc7_level0_row3\" class=\"row_heading level0 row3\" >2.056126</th>\n",
       "      <td id=\"T_41bc7_row3_col0\" class=\"data row3 col0\" >0.011858</td>\n",
       "      <td id=\"T_41bc7_row3_col1\" class=\"data row3 col1\" >0.011894</td>\n",
       "      <td id=\"T_41bc7_row3_col2\" class=\"data row3 col2\" >0.975913</td>\n",
       "    </tr>\n",
       "    <tr>\n",
       "      <th id=\"T_41bc7_level0_row4\" class=\"row_heading level0 row4\" >2.559890</th>\n",
       "      <td id=\"T_41bc7_row4_col0\" class=\"data row4 col0\" >0.013314</td>\n",
       "      <td id=\"T_41bc7_row4_col1\" class=\"data row4 col1\" >0.013358</td>\n",
       "      <td id=\"T_41bc7_row4_col2\" class=\"data row4 col2\" >0.966493</td>\n",
       "    </tr>\n",
       "    <tr>\n",
       "      <th id=\"T_41bc7_level0_row5\" class=\"row_heading level0 row5\" >3.058179</th>\n",
       "      <td id=\"T_41bc7_row5_col0\" class=\"data row5 col0\" >0.014674</td>\n",
       "      <td id=\"T_41bc7_row5_col1\" class=\"data row5 col1\" >0.014728</td>\n",
       "      <td id=\"T_41bc7_row5_col2\" class=\"data row5 col2\" >0.956117</td>\n",
       "    </tr>\n",
       "    <tr>\n",
       "      <th id=\"T_41bc7_level0_row6\" class=\"row_heading level0 row6\" >3.561944</th>\n",
       "      <td id=\"T_41bc7_row6_col0\" class=\"data row6 col0\" >0.015950</td>\n",
       "      <td id=\"T_41bc7_row6_col1\" class=\"data row6 col1\" >0.016013</td>\n",
       "      <td id=\"T_41bc7_row6_col2\" class=\"data row6 col2\" >0.944772</td>\n",
       "    </tr>\n",
       "    <tr>\n",
       "      <th id=\"T_41bc7_level0_row7\" class=\"row_heading level0 row7\" >4.057495</th>\n",
       "      <td id=\"T_41bc7_row7_col0\" class=\"data row7 col0\" >0.017100</td>\n",
       "      <td id=\"T_41bc7_row7_col1\" class=\"data row7 col1\" >0.017173</td>\n",
       "      <td id=\"T_41bc7_row7_col2\" class=\"data row7 col2\" >0.932970</td>\n",
       "    </tr>\n",
       "    <tr>\n",
       "      <th id=\"T_41bc7_level0_row8\" class=\"row_heading level0 row8\" >4.561259</th>\n",
       "      <td id=\"T_41bc7_row8_col0\" class=\"data row8 col0\" >0.018163</td>\n",
       "      <td id=\"T_41bc7_row8_col1\" class=\"data row8 col1\" >0.018246</td>\n",
       "      <td id=\"T_41bc7_row8_col2\" class=\"data row8 col2\" >0.920492</td>\n",
       "    </tr>\n",
       "    <tr>\n",
       "      <th id=\"T_41bc7_level0_row9\" class=\"row_heading level0 row9\" >5.056810</th>\n",
       "      <td id=\"T_41bc7_row9_col0\" class=\"data row9 col0\" >0.019109</td>\n",
       "      <td id=\"T_41bc7_row9_col1\" class=\"data row9 col1\" >0.019201</td>\n",
       "      <td id=\"T_41bc7_row9_col2\" class=\"data row9 col2\" >0.907890</td>\n",
       "    </tr>\n",
       "    <tr>\n",
       "      <th id=\"T_41bc7_level0_row10\" class=\"row_heading level0 row10\" >5.560575</th>\n",
       "      <td id=\"T_41bc7_row10_col0\" class=\"data row10 col0\" >0.019977</td>\n",
       "      <td id=\"T_41bc7_row10_col1\" class=\"data row10 col1\" >0.020077</td>\n",
       "      <td id=\"T_41bc7_row10_col2\" class=\"data row10 col2\" >0.894866</td>\n",
       "    </tr>\n",
       "    <tr>\n",
       "      <th id=\"T_41bc7_level0_row11\" class=\"row_heading level0 row11\" >6.056126</th>\n",
       "      <td id=\"T_41bc7_row11_col0\" class=\"data row11 col0\" >0.020744</td>\n",
       "      <td id=\"T_41bc7_row11_col1\" class=\"data row11 col1\" >0.020852</td>\n",
       "      <td id=\"T_41bc7_row11_col2\" class=\"data row11 col2\" >0.881941</td>\n",
       "    </tr>\n",
       "    <tr>\n",
       "      <th id=\"T_41bc7_level0_row12\" class=\"row_heading level0 row12\" >6.559890</th>\n",
       "      <td id=\"T_41bc7_row12_col0\" class=\"data row12 col0\" >0.021447</td>\n",
       "      <td id=\"T_41bc7_row12_col1\" class=\"data row12 col1\" >0.021562</td>\n",
       "      <td id=\"T_41bc7_row12_col2\" class=\"data row12 col2\" >0.868760</td>\n",
       "    </tr>\n",
       "    <tr>\n",
       "      <th id=\"T_41bc7_level0_row13\" class=\"row_heading level0 row13\" >7.019849</th>\n",
       "      <td id=\"T_41bc7_row13_col0\" class=\"data row13 col0\" >0.022026</td>\n",
       "      <td id=\"T_41bc7_row13_col1\" class=\"data row13 col1\" >0.022148</td>\n",
       "      <td id=\"T_41bc7_row13_col2\" class=\"data row13 col2\" >0.856740</td>\n",
       "    </tr>\n",
       "    <tr>\n",
       "      <th id=\"T_41bc7_level0_row14\" class=\"row_heading level0 row14\" >7.518138</th>\n",
       "      <td id=\"T_41bc7_row14_col0\" class=\"data row14 col0\" >0.022594</td>\n",
       "      <td id=\"T_41bc7_row14_col1\" class=\"data row14 col1\" >0.022722</td>\n",
       "      <td id=\"T_41bc7_row14_col2\" class=\"data row14 col2\" >0.843777</td>\n",
       "    </tr>\n",
       "    <tr>\n",
       "      <th id=\"T_41bc7_level0_row15\" class=\"row_heading level0 row15\" >8.021903</th>\n",
       "      <td id=\"T_41bc7_row15_col0\" class=\"data row15 col0\" >0.023113</td>\n",
       "      <td id=\"T_41bc7_row15_col1\" class=\"data row15 col1\" >0.023247</td>\n",
       "      <td id=\"T_41bc7_row15_col2\" class=\"data row15 col2\" >0.830766</td>\n",
       "    </tr>\n",
       "    <tr>\n",
       "      <th id=\"T_41bc7_level0_row16\" class=\"row_heading level0 row16\" >8.517454</th>\n",
       "      <td id=\"T_41bc7_row16_col0\" class=\"data row16 col0\" >0.023574</td>\n",
       "      <td id=\"T_41bc7_row16_col1\" class=\"data row16 col1\" >0.023713</td>\n",
       "      <td id=\"T_41bc7_row16_col2\" class=\"data row16 col2\" >0.818087</td>\n",
       "    </tr>\n",
       "    <tr>\n",
       "      <th id=\"T_41bc7_level0_row17\" class=\"row_heading level0 row17\" >9.021218</th>\n",
       "      <td id=\"T_41bc7_row17_col0\" class=\"data row17 col0\" >0.023998</td>\n",
       "      <td id=\"T_41bc7_row17_col1\" class=\"data row17 col1\" >0.024143</td>\n",
       "      <td id=\"T_41bc7_row17_col2\" class=\"data row17 col2\" >0.805336</td>\n",
       "    </tr>\n",
       "    <tr>\n",
       "      <th id=\"T_41bc7_level0_row18\" class=\"row_heading level0 row18\" >9.516769</th>\n",
       "      <td id=\"T_41bc7_row18_col0\" class=\"data row18 col0\" >0.024378</td>\n",
       "      <td id=\"T_41bc7_row18_col1\" class=\"data row18 col1\" >0.024527</td>\n",
       "      <td id=\"T_41bc7_row18_col2\" class=\"data row18 col2\" >0.792945</td>\n",
       "    </tr>\n",
       "    <tr>\n",
       "      <th id=\"T_41bc7_level0_row19\" class=\"row_heading level0 row19\" >10.020534</th>\n",
       "      <td id=\"T_41bc7_row19_col0\" class=\"data row19 col0\" >0.024730</td>\n",
       "      <td id=\"T_41bc7_row19_col1\" class=\"data row19 col1\" >0.024883</td>\n",
       "      <td id=\"T_41bc7_row19_col2\" class=\"data row19 col2\" >0.780510</td>\n",
       "    </tr>\n",
       "  </tbody>\n",
       "</table>\n"
      ],
      "text/plain": [
       "<pandas.io.formats.style.Styler at 0x20d476ba300>"
      ]
     },
     "metadata": {},
     "output_type": "display_data"
    }
   ],
   "source": [
    "x0 = [0.031627,-0.025166, -0.020701, 1.514887]\n",
    "\n",
    "DF_ns = pd.DataFrame(discount_factor_nelson_siegel(x0, discount_dataframe.index), index=discount_dataframe.index, columns=[\"Discount Factor\"])\n",
    "\n",
    "\n",
    "DF_ns[\"Continuously_Rate\"] = -np.log(DF_ns[\"Discount Factor\"])/DF_ns.index\n",
    "DF_ns[\"SemiAnual_Rate_NS\"] = hf.compound_rate(DF_ns[\"Continuously_Rate\"],None,2)\n",
    "\n",
    "display(DF_ns[['Continuously_Rate', \"SemiAnual_Rate_NS\",'Discount Factor']].style.format(\"{:.6f}\"))"
   ]
  },
  {
   "cell_type": "markdown",
   "metadata": {},
   "source": [
    "### 2.3 (5pts)\n",
    "\n",
    "Plot...\n",
    "* bootstrapped spot rates\n",
    "* Nelson-Siegel spot rates\n",
    "* provided ytm"
   ]
  },
  {
   "cell_type": "code",
   "execution_count": 14,
   "metadata": {},
   "outputs": [
    {
     "data": {
      "text/plain": [
       "<matplotlib.legend.Legend at 0x20d476b9e50>"
      ]
     },
     "execution_count": 14,
     "metadata": {},
     "output_type": "execute_result"
    },
    {
     "data": {
      "image/png": "[encoded data removed]",
      "text/plain": [
       "<Figure size 1200x600 with 1 Axes>"
      ]
     },
     "metadata": {},
     "output_type": "display_data"
    }
   ],
   "source": [
    "bootstrapped_rates = discount_dataframe[\"Spot_semianual_rate\"].values\n",
    "NS_rates = DF_ns[\"SemiAnual_Rate_NS\"].values\n",
    "YTM = select_maturities[ \"ytm\"].values\n",
    "indexs = discount_dataframe.index\n",
    "\n",
    "plt.figure(figsize=(12,6))\n",
    "plt.plot(indexs, bootstrapped_rates, label=\"Bootstrapped Rates\")\n",
    "plt.plot(indexs, NS_rates, label=\"Nelson-Siegel Rates\")\n",
    "plt.plot(indexs, YTM, label=\"YTM\")\n",
    "plt.legend()\n"
   ]
  },
  {
   "cell_type": "markdown",
   "metadata": {},
   "source": [
    "### 2.4 (10pts)\n",
    "\n",
    "Which of the two spot rate curves (bootstrapped or Nelson-Siegel) would be better for...\n",
    "* pricing the provided sample\n",
    "* building spot rates out to 30 years\n",
    "* calculating forward rates\n",
    "\n",
    "For each of these three questions, be **specific** in your answer."
   ]
  },
  {
   "cell_type": "markdown",
   "metadata": {},
   "source": [
    "*Answer:*\n",
    "- For pricing the provided sample, the boostrapped curve is better, because is there is only one bond per maturity, so the solution is unique.\n",
    "- For 30y bonds, the Nelson-Siegel curve is better, because it is more flexible and can be used to interpolate.\n",
    "- For calculating Fwd rates, the NS will generate smoother forward rate"
   ]
  },
  {
   "cell_type": "markdown",
   "metadata": {},
   "source": [
    "### 2.5 (5pts)\n",
    "\n",
    "Consider the bootstrapped curve and its associated forward curve. (No need to calculate the forward curve.)\n",
    "\n",
    "Conceptually, do you expect it is higher or lower than the spot-rate curve at\n",
    "* $T=1$\n",
    "* $T=10$\n",
    "\n",
    "Explain."
   ]
  },
  {
   "cell_type": "markdown",
   "metadata": {},
   "source": [
    "\n",
    "*Answer:*\n",
    "- T = 1, because the spot rate is higher in T = 1 than T = 0.5, the fwd rate should be higher than the spot rate in T = 1.\n",
    "- T = 10, because the spot rate is lower in T = 10 than T = 9.5, the fwd rate should be lower than the spot rate in T = 10."
   ]
  },
  {
   "cell_type": "markdown",
   "metadata": {},
   "source": [
    "### 2.6 (5pts)\n",
    "\n",
    "Use the bootstrapped spot curve to calculate the forward rate for $T_1=3\\to T_2=3.5$."
   ]
  },
  {
   "cell_type": "code",
   "execution_count": 15,
   "metadata": {},
   "outputs": [
    {
     "name": "stderr",
     "output_type": "stream",
     "text": [
      "C:\\Users\\josel\\AppData\\Local\\Temp\\ipykernel_30664\\3905651878.py:2: FutureWarning: ChainedAssignmentError: behaviour will change in pandas 3.0!\n",
      "You are setting values through chained assignment. Currently this works in certain cases, but when using Copy-on-Write (which will become the default behaviour in pandas 3.0) this will never work to update the original DataFrame or Series, because the intermediate object on which we are setting values will behave as a copy.\n",
      "A typical example is when you are setting values in a column of a DataFrame, like:\n",
      "\n",
      "df[\"col\"][row_indexer] = value\n",
      "\n",
      "Use `df.loc[row_indexer, \"col\"] = values` instead, to perform the assignment in a single step and ensure this keeps updating the original `df`.\n",
      "\n",
      "See the caveats in the documentation: https://pandas.pydata.org/pandas-docs/stable/user_guide/indexing.html#returning-a-view-versus-a-copy\n",
      "\n",
      "  discount_dataframe[\"Fwd_discount_factor\"].iloc[0] = discount_dataframe[\"Discount_factor_spot\"].iloc[0]\n"
     ]
    }
   ],
   "source": [
    "discount_dataframe[\"Fwd_discount_factor\"] = discount_dataframe[\"Discount_factor_spot\"]/discount_dataframe[\"Discount_factor_spot\"].shift()\n",
    "discount_dataframe[\"Fwd_discount_factor\"].iloc[0] = discount_dataframe[\"Discount_factor_spot\"].iloc[0]\n",
    "\n",
    "discount_dataframe[\"Fwd_continuous_rate\"] = -np.log(discount_dataframe[\"Fwd_discount_factor\"]) / discount_dataframe.index.to_series().diff().mean()"
   ]
  },
  {
   "cell_type": "code",
   "execution_count": 16,
   "metadata": {},
   "outputs": [
    {
     "data": {
      "text/plain": [
       "0.0242188293647446"
      ]
     },
     "execution_count": 16,
     "metadata": {},
     "output_type": "execute_result"
    }
   ],
   "source": [
    "T2 = 3.5\n",
    "\n",
    "# get index closest to value given Time-to-maturity are not exactly half years\n",
    "idx = discount_dataframe.index[abs(discount_dataframe.index - T2).argmin()]\n",
    "\n",
    "discount_dataframe.loc[idx, \"Fwd_continuous_rate\"]"
   ]
  },
  {
   "cell_type": "markdown",
   "metadata": {},
   "source": [
    "***"
   ]
  },
  {
   "cell_type": "markdown",
   "metadata": {},
   "source": [
    "# 3. Trading the Yield Curve\n",
    "\n"
   ]
  },
  {
   "cell_type": "markdown",
   "metadata": {},
   "source": [
    "Use the file, `famabliss_strips_2023-12-29.xlsx` for the following problem.\n",
    "\n",
    "* The file provides prices for **strips** which are zero-coupon bonds. \n",
    "* Assume face value of 100.\n",
    "* Because these prices are on zero-coupon bonds, they can be interpreted as discount factors, $Z$, directly.\n",
    "\n",
    "Note that you will make use of only a few rows of the data set."
   ]
  },
  {
   "cell_type": "code",
   "execution_count": 3,
   "metadata": {},
   "outputs": [],
   "source": [
    "path = \"../data/famabliss_strips_2023-12-29.xlsx\"\n",
    "strips = pd.read_excel(path, index_col=0)\n"
   ]
  },
  {
   "cell_type": "code",
   "execution_count": 4,
   "metadata": {},
   "outputs": [
    {
     "data": {
      "text/html": [
       "<style type=\"text/css\">\n",
       "</style>\n",
       "<table id=\"T_04544\">\n",
       "  <thead>\n",
       "    <tr>\n",
       "      <th class=\"blank level0\" >&nbsp;</th>\n",
       "      <th id=\"T_04544_level0_col0\" class=\"col_heading level0 col0\" >Long PnL</th>\n",
       "      <th id=\"T_04544_level0_col1\" class=\"col_heading level0 col1\" >Short PnL</th>\n",
       "      <th id=\"T_04544_level0_col2\" class=\"col_heading level0 col2\" >Net PnL</th>\n",
       "    </tr>\n",
       "    <tr>\n",
       "      <th class=\"index_name level0\" >Date</th>\n",
       "      <th class=\"blank col0\" >&nbsp;</th>\n",
       "      <th class=\"blank col1\" >&nbsp;</th>\n",
       "      <th class=\"blank col2\" >&nbsp;</th>\n",
       "    </tr>\n",
       "  </thead>\n",
       "  <tbody>\n",
       "    <tr>\n",
       "      <th id=\"T_04544_level0_row0\" class=\"row_heading level0 row0\" >2010-01-29</th>\n",
       "      <td id=\"T_04544_row0_col0\" class=\"data row0 col0\" >0.00</td>\n",
       "      <td id=\"T_04544_row0_col1\" class=\"data row0 col1\" >0.00</td>\n",
       "      <td id=\"T_04544_row0_col2\" class=\"data row0 col2\" >0.00</td>\n",
       "    </tr>\n",
       "    <tr>\n",
       "      <th id=\"T_04544_level0_row1\" class=\"row_heading level0 row1\" >2011-01-31</th>\n",
       "      <td id=\"T_04544_row1_col0\" class=\"data row1 col0\" >6,179,199.31</td>\n",
       "      <td id=\"T_04544_row1_col1\" class=\"data row1 col1\" >-3,195,323.56</td>\n",
       "      <td id=\"T_04544_row1_col2\" class=\"data row1 col2\" >2,983,875.75</td>\n",
       "    </tr>\n",
       "    <tr>\n",
       "      <th id=\"T_04544_level0_row2\" class=\"row_heading level0 row2\" >2012-01-31</th>\n",
       "      <td id=\"T_04544_row2_col0\" class=\"data row2 col0\" >5,284,231.55</td>\n",
       "      <td id=\"T_04544_row2_col1\" class=\"data row2 col1\" >-1,974,658.08</td>\n",
       "      <td id=\"T_04544_row2_col2\" class=\"data row2 col2\" >3,309,573.47</td>\n",
       "    </tr>\n",
       "  </tbody>\n",
       "</table>\n"
      ],
      "text/plain": [
       "<pandas.io.formats.style.Styler at 0x14dc7a7e570>"
      ]
     },
     "metadata": {},
     "output_type": "display_data"
    },
    {
     "data": {
      "text/html": [
       "<style type=\"text/css\">\n",
       "</style>\n",
       "<table id=\"T_18bc6\">\n",
       "  <thead>\n",
       "    <tr>\n",
       "      <th class=\"blank level0\" >&nbsp;</th>\n",
       "      <th id=\"T_18bc6_level0_col0\" class=\"col_heading level0 col0\" >Long Bond</th>\n",
       "      <th id=\"T_18bc6_level0_col1\" class=\"col_heading level0 col1\" >Long Contracts</th>\n",
       "      <th id=\"T_18bc6_level0_col2\" class=\"col_heading level0 col2\" >Short Bond</th>\n",
       "      <th id=\"T_18bc6_level0_col3\" class=\"col_heading level0 col3\" >Short Contracts</th>\n",
       "    </tr>\n",
       "    <tr>\n",
       "      <th class=\"index_name level0\" >Date</th>\n",
       "      <th class=\"blank col0\" >&nbsp;</th>\n",
       "      <th class=\"blank col1\" >&nbsp;</th>\n",
       "      <th class=\"blank col2\" >&nbsp;</th>\n",
       "      <th class=\"blank col3\" >&nbsp;</th>\n",
       "    </tr>\n",
       "  </thead>\n",
       "  <tbody>\n",
       "    <tr>\n",
       "      <th id=\"T_18bc6_level0_row0\" class=\"row_heading level0 row0\" >2010-01-29</th>\n",
       "      <td id=\"T_18bc6_row0_col0\" class=\"data row0 col0\" >5.00</td>\n",
       "      <td id=\"T_18bc6_row0_col1\" class=\"data row0 col1\" >1,124,880.49</td>\n",
       "      <td id=\"T_18bc6_row0_col2\" class=\"data row0 col2\" >2.00</td>\n",
       "      <td id=\"T_18bc6_row0_col3\" class=\"data row0 col3\" >-2,539,847.73</td>\n",
       "    </tr>\n",
       "    <tr>\n",
       "      <th id=\"T_18bc6_level0_row1\" class=\"row_heading level0 row1\" >2011-01-31</th>\n",
       "      <td id=\"T_18bc6_row1_col0\" class=\"data row1 col0\" >4.00</td>\n",
       "      <td id=\"T_18bc6_row1_col1\" class=\"data row1 col1\" >1,124,880.49</td>\n",
       "      <td id=\"T_18bc6_row1_col2\" class=\"data row1 col2\" >2.00</td>\n",
       "      <td id=\"T_18bc6_row1_col3\" class=\"data row1 col3\" >-2,146,606.59</td>\n",
       "    </tr>\n",
       "    <tr>\n",
       "      <th id=\"T_18bc6_level0_row2\" class=\"row_heading level0 row2\" >2012-01-31</th>\n",
       "      <td id=\"T_18bc6_row2_col0\" class=\"data row2 col0\" >3.00</td>\n",
       "      <td id=\"T_18bc6_row2_col1\" class=\"data row2 col1\" >1,124,880.49</td>\n",
       "      <td id=\"T_18bc6_row2_col2\" class=\"data row2 col2\" >2.00</td>\n",
       "      <td id=\"T_18bc6_row2_col3\" class=\"data row2 col3\" >-1,679,421.11</td>\n",
       "    </tr>\n",
       "  </tbody>\n",
       "</table>\n"
      ],
      "text/plain": [
       "<pandas.io.formats.style.Styler at 0x14dc7a7e570>"
      ]
     },
     "metadata": {},
     "output_type": "display_data"
    },
    {
     "data": {
      "text/html": [
       "<style type=\"text/css\">\n",
       "</style>\n",
       "<table id=\"T_3261c\">\n",
       "  <thead>\n",
       "    <tr>\n",
       "      <th class=\"blank level0\" >&nbsp;</th>\n",
       "      <th id=\"T_3261c_level0_col0\" class=\"col_heading level0 col0\" >Long Bond</th>\n",
       "      <th id=\"T_3261c_level0_col1\" class=\"col_heading level0 col1\" >Long Position</th>\n",
       "      <th id=\"T_3261c_level0_col2\" class=\"col_heading level0 col2\" >Short Bond</th>\n",
       "      <th id=\"T_3261c_level0_col3\" class=\"col_heading level0 col3\" >Short Position</th>\n",
       "    </tr>\n",
       "    <tr>\n",
       "      <th class=\"index_name level0\" >Date</th>\n",
       "      <th class=\"blank col0\" >&nbsp;</th>\n",
       "      <th class=\"blank col1\" >&nbsp;</th>\n",
       "      <th class=\"blank col2\" >&nbsp;</th>\n",
       "      <th class=\"blank col3\" >&nbsp;</th>\n",
       "    </tr>\n",
       "  </thead>\n",
       "  <tbody>\n",
       "    <tr>\n",
       "      <th id=\"T_3261c_level0_row0\" class=\"row_heading level0 row0\" >2010-01-29</th>\n",
       "      <td id=\"T_3261c_row0_col0\" class=\"data row0 col0\" >5.00</td>\n",
       "      <td id=\"T_3261c_row0_col1\" class=\"data row0 col1\" >100,000,000.00</td>\n",
       "      <td id=\"T_3261c_row0_col2\" class=\"data row0 col2\" >2.00</td>\n",
       "      <td id=\"T_3261c_row0_col3\" class=\"data row0 col3\" >-250,000,000.00</td>\n",
       "    </tr>\n",
       "    <tr>\n",
       "      <th id=\"T_3261c_level0_row1\" class=\"row_heading level0 row1\" >2011-01-31</th>\n",
       "      <td id=\"T_3261c_row1_col0\" class=\"data row1 col0\" >4.00</td>\n",
       "      <td id=\"T_3261c_row1_col1\" class=\"data row1 col1\" >106,179,199.31</td>\n",
       "      <td id=\"T_3261c_row1_col2\" class=\"data row1 col2\" >2.00</td>\n",
       "      <td id=\"T_3261c_row1_col3\" class=\"data row1 col3\" >-212,358,398.62</td>\n",
       "    </tr>\n",
       "    <tr>\n",
       "      <th id=\"T_3261c_level0_row2\" class=\"row_heading level0 row2\" >2012-01-31</th>\n",
       "      <td id=\"T_3261c_row2_col0\" class=\"data row2 col0\" >3.00</td>\n",
       "      <td id=\"T_3261c_row2_col1\" class=\"data row2 col1\" >111,463,430.86</td>\n",
       "      <td id=\"T_3261c_row2_col2\" class=\"data row2 col2\" >2.00</td>\n",
       "      <td id=\"T_3261c_row2_col3\" class=\"data row2 col3\" >-167,195,146.29</td>\n",
       "    </tr>\n",
       "  </tbody>\n",
       "</table>\n"
      ],
      "text/plain": [
       "<pandas.io.formats.style.Styler at 0x14dc7a7e570>"
      ]
     },
     "metadata": {},
     "output_type": "display_data"
    }
   ],
   "source": [
    "\n",
    "def calculate_pnl(strips, date_range, key_long, key_short, initial_size):\n",
    "    pnl_data = []  # Store PnL results\n",
    "    contracts_data = []  # Store contract quantities (new short bond after rollover)\n",
    "    position_data = []  # Store position values (new short bond after rollover)\n",
    "\n",
    "    # Initialize first date\n",
    "    t_date = date_range[0]\n",
    "    \n",
    "    # Initial prices\n",
    "    price_long = strips.loc[t_date, key_long]\n",
    "    price_short = strips.loc[t_date, key_short]\n",
    "\n",
    "    # Initial quantities\n",
    "    quantity_long = initial_size / price_long\n",
    "    quantity_short = -((key_long * price_long) / (key_short * price_short)) * quantity_long\n",
    "\n",
    "    # Initial positions\n",
    "    position_long = quantity_long * price_long\n",
    "    position_short = quantity_short * price_short\n",
    "\n",
    "    # Store initial values\n",
    "    pnl_data.append([t_date, 0, 0, 0])  # No PnL at t=0\n",
    "    contracts_data.append([t_date, key_long, quantity_long, key_short, quantity_short])\n",
    "    position_data.append([t_date, key_long, position_long, key_short, position_short])\n",
    "\n",
    "    for i in range(1, len(date_range)):  \n",
    "        t2_date = date_range[i]\n",
    "        \n",
    "        # Handle maturity of long bond\n",
    "        if key_long - i < 1:  \n",
    "            # Bond matures, receive face value\n",
    "            price_long_new = 100  \n",
    "        else:\n",
    "            price_long_new = strips.loc[t2_date, key_long - i]  # Long position rolls down\n",
    "        \n",
    "        # Handle maturity of short bond (1-year bond pays face value)\n",
    "        if key_short - 1 < 1:\n",
    "            price_short_new = 100  # Face value at maturity\n",
    "        else:\n",
    "            price_short_new = strips.loc[t2_date, key_short - 1]  # Old short bond before roll\n",
    "\n",
    "        # Update positions before rollover\n",
    "        position_long_new = quantity_long * price_long_new\n",
    "        position_short_new = quantity_short * price_short_new\n",
    "\n",
    "        # Compute PnL\n",
    "        pnl_long = position_long_new - position_long\n",
    "        pnl_short = position_short_new - position_short\n",
    "        net_pnl = pnl_long + pnl_short\n",
    "\n",
    "        # Store PnL results\n",
    "        pnl_data.append([t2_date, pnl_long, pnl_short, net_pnl])\n",
    "\n",
    "        # Roll over short position (assign new short bond)\n",
    "        if key_short - 1 < 1:\n",
    "            # If the short bond has matured, there is no rollover\n",
    "            quantity_short = 0\n",
    "            position_short = 0\n",
    "            new_key_short = None  # No new bond\n",
    "        else:\n",
    "            new_key_short = key_short  # New short bond is always a 1-year STRIP\n",
    "            price_short_new_rolled = strips.loc[t2_date, new_key_short]  # New 1-year bond price\n",
    "            quantity_short = -((key_long - i) * price_long_new) / (new_key_short * price_short_new_rolled) * quantity_long\n",
    "            position_short = quantity_short * price_short_new_rolled\n",
    "\n",
    "        # Store new contract and position values (reflecting new short bond after rollover)\n",
    "        contracts_data.append([t2_date, key_long - i, quantity_long, new_key_short, quantity_short])\n",
    "        position_data.append([t2_date, key_long - i, position_long_new, new_key_short, position_short])\n",
    "\n",
    "        # Update positions\n",
    "        position_long = position_long_new\n",
    "\n",
    "    # Convert to DataFrames\n",
    "    pnl_df = pd.DataFrame(pnl_data, columns=[\"Date\", \"Long PnL\", \"Short PnL\", \"Net PnL\"]).set_index(\"Date\")\n",
    "    contracts_df = pd.DataFrame(contracts_data, columns=[\"Date\", \"Long Bond\", \"Long Contracts\", \"Short Bond\", \"Short Contracts\"]).set_index(\"Date\")\n",
    "    position_df = pd.DataFrame(position_data, columns=[\"Date\", \"Long Bond\", \"Long Position\", \"Short Bond\", \"Short Position\"]).set_index(\"Date\")\n",
    "\n",
    "    return pnl_df, contracts_df, position_df\n",
    "\n",
    "\n",
    "\n",
    "\n",
    "# Example Usage:\n",
    "# Example Usage:\n",
    "path = \"../data/famabliss_strips_2023-12-29.xlsx\"\n",
    "strips = pd.read_excel(path, index_col=0)\n",
    "\n",
    "date_range = [\"2010-01-29\", \"2011-01-31\", \"2012-01-31\"]  # Adjust as needed\n",
    "key_long = 5\n",
    "key_short = 2\n",
    "initial_size = 100e6\n",
    "\n",
    "pnl_df, contracts_df, position_df = calculate_pnl(strips, date_range, key_long, key_short, initial_size)\n",
    "\n",
    "\n",
    "display(pnl_df.style.format(\"{:,.2f}\"))\n",
    "display(contracts_df.style.format(\"{:,.2f}\"))\n",
    "display(position_df.style.format(\"{:,.2f}\"))"
   ]
  },
  {
   "cell_type": "code",
   "execution_count": 6,
   "metadata": {},
   "outputs": [
    {
     "name": "stderr",
     "output_type": "stream",
     "text": [
      "C:\\Users\\josel\\AppData\\Local\\Temp\\ipykernel_7840\\3498289521.py:1: FutureWarning: The behavior of 'isin' with dtype=datetime64[ns] and castable values (e.g. strings) is deprecated. In a future version, these will not be considered matching by isin. Explicitly cast to the appropriate dtype before calling isin instead.\n",
      "  strips[strips.index.isin(date_range)]\n"
     ]
    },
    {
     "data": {
      "text/html": [
       "<div>\n",
       "<style scoped>\n",
       "    .dataframe tbody tr th:only-of-type {\n",
       "        vertical-align: middle;\n",
       "    }\n",
       "\n",
       "    .dataframe tbody tr th {\n",
       "        vertical-align: top;\n",
       "    }\n",
       "\n",
       "    .dataframe thead th {\n",
       "        text-align: right;\n",
       "    }\n",
       "</style>\n",
       "<table border=\"1\" class=\"dataframe\">\n",
       "  <thead>\n",
       "    <tr style=\"text-align: right;\">\n",
       "      <th></th>\n",
       "      <th>1</th>\n",
       "      <th>2</th>\n",
       "      <th>3</th>\n",
       "      <th>4</th>\n",
       "      <th>5</th>\n",
       "    </tr>\n",
       "    <tr>\n",
       "      <th>date</th>\n",
       "      <th></th>\n",
       "      <th></th>\n",
       "      <th></th>\n",
       "      <th></th>\n",
       "      <th></th>\n",
       "    </tr>\n",
       "  </thead>\n",
       "  <tbody>\n",
       "    <tr>\n",
       "      <th>2010-01-29</th>\n",
       "      <td>99.688332</td>\n",
       "      <td>98.431098</td>\n",
       "      <td>96.079773</td>\n",
       "      <td>92.897235</td>\n",
       "      <td>88.898332</td>\n",
       "    </tr>\n",
       "    <tr>\n",
       "      <th>2011-01-31</th>\n",
       "      <td>99.689175</td>\n",
       "      <td>98.927488</td>\n",
       "      <td>97.128458</td>\n",
       "      <td>94.391538</td>\n",
       "      <td>90.614294</td>\n",
       "    </tr>\n",
       "    <tr>\n",
       "      <th>2012-01-31</th>\n",
       "      <td>99.847386</td>\n",
       "      <td>99.555225</td>\n",
       "      <td>99.089131</td>\n",
       "      <td>98.067733</td>\n",
       "      <td>96.435549</td>\n",
       "    </tr>\n",
       "  </tbody>\n",
       "</table>\n",
       "</div>"
      ],
      "text/plain": [
       "                    1          2          3          4          5\n",
       "date                                                             \n",
       "2010-01-29  99.688332  98.431098  96.079773  92.897235  88.898332\n",
       "2011-01-31  99.689175  98.927488  97.128458  94.391538  90.614294\n",
       "2012-01-31  99.847386  99.555225  99.089131  98.067733  96.435549"
      ]
     },
     "execution_count": 6,
     "metadata": {},
     "output_type": "execute_result"
    }
   ],
   "source": [
    "strips[strips.index.isin(date_range)]"
   ]
  },
  {
   "cell_type": "code",
   "execution_count": 12,
   "metadata": {},
   "outputs": [
    {
     "data": {
      "text/html": [
       "<style type=\"text/css\">\n",
       "</style>\n",
       "<table id=\"T_212ba\">\n",
       "  <thead>\n",
       "    <tr>\n",
       "      <th class=\"blank level0\" >&nbsp;</th>\n",
       "      <th id=\"T_212ba_level0_col0\" class=\"col_heading level0 col0\" >Long PnL</th>\n",
       "      <th id=\"T_212ba_level0_col1\" class=\"col_heading level0 col1\" >Short PnL</th>\n",
       "      <th id=\"T_212ba_level0_col2\" class=\"col_heading level0 col2\" >Net PnL</th>\n",
       "    </tr>\n",
       "    <tr>\n",
       "      <th class=\"index_name level0\" >Date</th>\n",
       "      <th class=\"blank col0\" >&nbsp;</th>\n",
       "      <th class=\"blank col1\" >&nbsp;</th>\n",
       "      <th class=\"blank col2\" >&nbsp;</th>\n",
       "    </tr>\n",
       "  </thead>\n",
       "  <tbody>\n",
       "    <tr>\n",
       "      <th id=\"T_212ba_level0_row0\" class=\"row_heading level0 row0\" >2018-12-31 00:00:00</th>\n",
       "      <td id=\"T_212ba_row0_col0\" class=\"data row0 col0\" >0.00</td>\n",
       "      <td id=\"T_212ba_row0_col1\" class=\"data row0 col1\" >0.00</td>\n",
       "      <td id=\"T_212ba_row0_col2\" class=\"data row0 col2\" >0.00</td>\n",
       "    </tr>\n",
       "    <tr>\n",
       "      <th id=\"T_212ba_level0_row1\" class=\"row_heading level0 row1\" >2019-12-31 00:00:00</th>\n",
       "      <td id=\"T_212ba_row1_col0\" class=\"data row1 col0\" >6,021,315.23</td>\n",
       "      <td id=\"T_212ba_row1_col1\" class=\"data row1 col1\" >-2,636,787.00</td>\n",
       "      <td id=\"T_212ba_row1_col2\" class=\"data row1 col2\" >3,384,528.23</td>\n",
       "    </tr>\n",
       "    <tr>\n",
       "      <th id=\"T_212ba_level0_row2\" class=\"row_heading level0 row2\" >2020-12-31 00:00:00</th>\n",
       "      <td id=\"T_212ba_row2_col0\" class=\"data row2 col0\" >6,751,760.77</td>\n",
       "      <td id=\"T_212ba_row2_col1\" class=\"data row2 col1\" >-1,585,323.78</td>\n",
       "      <td id=\"T_212ba_row2_col2\" class=\"data row2 col2\" >5,166,436.98</td>\n",
       "    </tr>\n",
       "    <tr>\n",
       "      <th id=\"T_212ba_level0_row3\" class=\"row_heading level0 row3\" >2021-12-31 00:00:00</th>\n",
       "      <td id=\"T_212ba_row3_col0\" class=\"data row3 col0\" >-1,110,234.52</td>\n",
       "      <td id=\"T_212ba_row3_col1\" class=\"data row3 col1\" >-104,244.84</td>\n",
       "      <td id=\"T_212ba_row3_col2\" class=\"data row3 col2\" >-1,214,479.36</td>\n",
       "    </tr>\n",
       "    <tr>\n",
       "      <th id=\"T_212ba_level0_row4\" class=\"row_heading level0 row4\" >2022-12-30 00:00:00</th>\n",
       "      <td id=\"T_212ba_row4_col0\" class=\"data row4 col0\" >-3,497,056.03</td>\n",
       "      <td id=\"T_212ba_row4_col1\" class=\"data row4 col1\" >-384,148.40</td>\n",
       "      <td id=\"T_212ba_row4_col2\" class=\"data row4 col2\" >-3,881,204.42</td>\n",
       "    </tr>\n",
       "    <tr>\n",
       "      <th id=\"T_212ba_level0_row5\" class=\"row_heading level0 row5\" >2023-12-29 00:00:00</th>\n",
       "      <td id=\"T_212ba_row5_col0\" class=\"data row5 col0\" >5,139,989.08</td>\n",
       "      <td id=\"T_212ba_row5_col1\" class=\"data row5 col1\" >-4,751,954.66</td>\n",
       "      <td id=\"T_212ba_row5_col2\" class=\"data row5 col2\" >388,034.42</td>\n",
       "    </tr>\n",
       "  </tbody>\n",
       "</table>\n"
      ],
      "text/plain": [
       "<pandas.io.formats.style.Styler at 0x14dc7c02480>"
      ]
     },
     "metadata": {},
     "output_type": "display_data"
    },
    {
     "data": {
      "text/html": [
       "<style type=\"text/css\">\n",
       "</style>\n",
       "<table id=\"T_8ec32\">\n",
       "  <thead>\n",
       "    <tr>\n",
       "      <th class=\"blank level0\" >&nbsp;</th>\n",
       "      <th id=\"T_8ec32_level0_col0\" class=\"col_heading level0 col0\" >Long Bond</th>\n",
       "      <th id=\"T_8ec32_level0_col1\" class=\"col_heading level0 col1\" >Long Qty</th>\n",
       "      <th id=\"T_8ec32_level0_col2\" class=\"col_heading level0 col2\" >Short Bond</th>\n",
       "      <th id=\"T_8ec32_level0_col3\" class=\"col_heading level0 col3\" >Short Qty</th>\n",
       "    </tr>\n",
       "    <tr>\n",
       "      <th class=\"index_name level0\" >Date</th>\n",
       "      <th class=\"blank col0\" >&nbsp;</th>\n",
       "      <th class=\"blank col1\" >&nbsp;</th>\n",
       "      <th class=\"blank col2\" >&nbsp;</th>\n",
       "      <th class=\"blank col3\" >&nbsp;</th>\n",
       "    </tr>\n",
       "  </thead>\n",
       "  <tbody>\n",
       "    <tr>\n",
       "      <th id=\"T_8ec32_level0_row0\" class=\"row_heading level0 row0\" >2018-12-31 00:00:00</th>\n",
       "      <td id=\"T_8ec32_row0_col0\" class=\"data row0 col0\" >5.00</td>\n",
       "      <td id=\"T_8ec32_row0_col1\" class=\"data row0 col1\" >1,133,057.75</td>\n",
       "      <td id=\"T_8ec32_row0_col2\" class=\"data row0 col2\" >1.00</td>\n",
       "      <td id=\"T_8ec32_row0_col3\" class=\"data row0 col3\" >-1,026,367.87</td>\n",
       "    </tr>\n",
       "    <tr>\n",
       "      <th id=\"T_8ec32_level0_row1\" class=\"row_heading level0 row1\" >2019-12-31 00:00:00</th>\n",
       "      <td id=\"T_8ec32_row1_col0\" class=\"data row1 col0\" >4.00</td>\n",
       "      <td id=\"T_8ec32_row1_col1\" class=\"data row1 col1\" >1,133,057.75</td>\n",
       "      <td id=\"T_8ec32_row1_col2\" class=\"data row1 col2\" >1.00</td>\n",
       "      <td id=\"T_8ec32_row1_col3\" class=\"data row1 col3\" >-1,015,853.24</td>\n",
       "    </tr>\n",
       "    <tr>\n",
       "      <th id=\"T_8ec32_level0_row2\" class=\"row_heading level0 row2\" >2020-12-31 00:00:00</th>\n",
       "      <td id=\"T_8ec32_row2_col0\" class=\"data row2 col0\" >3.00</td>\n",
       "      <td id=\"T_8ec32_row2_col1\" class=\"data row2 col1\" >1,133,057.75</td>\n",
       "      <td id=\"T_8ec32_row2_col2\" class=\"data row2 col2\" >1.00</td>\n",
       "      <td id=\"T_8ec32_row2_col3\" class=\"data row2 col3\" >-1,001,042.45</td>\n",
       "    </tr>\n",
       "    <tr>\n",
       "      <th id=\"T_8ec32_level0_row3\" class=\"row_heading level0 row3\" >2021-12-31 00:00:00</th>\n",
       "      <td id=\"T_8ec32_row3_col0\" class=\"data row3 col0\" >2.00</td>\n",
       "      <td id=\"T_8ec32_row3_col1\" class=\"data row3 col1\" >1,133,057.75</td>\n",
       "      <td id=\"T_8ec32_row3_col2\" class=\"data row3 col2\" >1.00</td>\n",
       "      <td id=\"T_8ec32_row3_col3\" class=\"data row3 col3\" >-1,003,841.48</td>\n",
       "    </tr>\n",
       "    <tr>\n",
       "      <th id=\"T_8ec32_level0_row4\" class=\"row_heading level0 row4\" >2022-12-30 00:00:00</th>\n",
       "      <td id=\"T_8ec32_row4_col0\" class=\"data row4 col0\" >1.00</td>\n",
       "      <td id=\"T_8ec32_row4_col1\" class=\"data row4 col1\" >1,133,057.75</td>\n",
       "      <td id=\"T_8ec32_row4_col2\" class=\"data row4 col2\" >1.00</td>\n",
       "      <td id=\"T_8ec32_row4_col3\" class=\"data row4 col3\" >-1,047,519.55</td>\n",
       "    </tr>\n",
       "    <tr>\n",
       "      <th id=\"T_8ec32_level0_row5\" class=\"row_heading level0 row5\" >2023-12-29 00:00:00</th>\n",
       "      <td id=\"T_8ec32_row5_col0\" class=\"data row5 col0\" >0.00</td>\n",
       "      <td id=\"T_8ec32_row5_col1\" class=\"data row5 col1\" >1,133,057.75</td>\n",
       "      <td id=\"T_8ec32_row5_col2\" class=\"data row5 col2\" >nan</td>\n",
       "      <td id=\"T_8ec32_row5_col3\" class=\"data row5 col3\" >0.00</td>\n",
       "    </tr>\n",
       "  </tbody>\n",
       "</table>\n"
      ],
      "text/plain": [
       "<pandas.io.formats.style.Styler at 0x14dc7c02480>"
      ]
     },
     "metadata": {},
     "output_type": "display_data"
    },
    {
     "data": {
      "text/html": [
       "<style type=\"text/css\">\n",
       "</style>\n",
       "<table id=\"T_95093\">\n",
       "  <thead>\n",
       "    <tr>\n",
       "      <th class=\"blank level0\" >&nbsp;</th>\n",
       "      <th id=\"T_95093_level0_col0\" class=\"col_heading level0 col0\" >Long Bond</th>\n",
       "      <th id=\"T_95093_level0_col1\" class=\"col_heading level0 col1\" >Long Position</th>\n",
       "      <th id=\"T_95093_level0_col2\" class=\"col_heading level0 col2\" >Short Bond</th>\n",
       "      <th id=\"T_95093_level0_col3\" class=\"col_heading level0 col3\" >Short Position</th>\n",
       "    </tr>\n",
       "    <tr>\n",
       "      <th class=\"index_name level0\" >Date</th>\n",
       "      <th class=\"blank col0\" >&nbsp;</th>\n",
       "      <th class=\"blank col1\" >&nbsp;</th>\n",
       "      <th class=\"blank col2\" >&nbsp;</th>\n",
       "      <th class=\"blank col3\" >&nbsp;</th>\n",
       "    </tr>\n",
       "  </thead>\n",
       "  <tbody>\n",
       "    <tr>\n",
       "      <th id=\"T_95093_level0_row0\" class=\"row_heading level0 row0\" >2018-12-31 00:00:00</th>\n",
       "      <td id=\"T_95093_row0_col0\" class=\"data row0 col0\" >5.00</td>\n",
       "      <td id=\"T_95093_row0_col1\" class=\"data row0 col1\" >100,000,000.00</td>\n",
       "      <td id=\"T_95093_row0_col2\" class=\"data row0 col2\" >1.00</td>\n",
       "      <td id=\"T_95093_row0_col3\" class=\"data row0 col3\" >-100,000,000.00</td>\n",
       "    </tr>\n",
       "    <tr>\n",
       "      <th id=\"T_95093_level0_row1\" class=\"row_heading level0 row1\" >2019-12-31 00:00:00</th>\n",
       "      <td id=\"T_95093_row1_col0\" class=\"data row1 col0\" >4.00</td>\n",
       "      <td id=\"T_95093_row1_col1\" class=\"data row1 col1\" >106,021,315.23</td>\n",
       "      <td id=\"T_95093_row1_col2\" class=\"data row1 col2\" >1.00</td>\n",
       "      <td id=\"T_95093_row1_col3\" class=\"data row1 col3\" >-100,000,000.00</td>\n",
       "    </tr>\n",
       "    <tr>\n",
       "      <th id=\"T_95093_level0_row2\" class=\"row_heading level0 row2\" >2020-12-31 00:00:00</th>\n",
       "      <td id=\"T_95093_row2_col0\" class=\"data row2 col0\" >3.00</td>\n",
       "      <td id=\"T_95093_row2_col1\" class=\"data row2 col1\" >112,773,076.00</td>\n",
       "      <td id=\"T_95093_row2_col2\" class=\"data row2 col2\" >1.00</td>\n",
       "      <td id=\"T_95093_row2_col3\" class=\"data row2 col3\" >-100,000,000.00</td>\n",
       "    </tr>\n",
       "    <tr>\n",
       "      <th id=\"T_95093_level0_row3\" class=\"row_heading level0 row3\" >2021-12-31 00:00:00</th>\n",
       "      <td id=\"T_95093_row3_col0\" class=\"data row3 col0\" >2.00</td>\n",
       "      <td id=\"T_95093_row3_col1\" class=\"data row3 col1\" >111,662,841.48</td>\n",
       "      <td id=\"T_95093_row3_col2\" class=\"data row3 col2\" >1.00</td>\n",
       "      <td id=\"T_95093_row3_col3\" class=\"data row3 col3\" >-100,000,000.00</td>\n",
       "    </tr>\n",
       "    <tr>\n",
       "      <th id=\"T_95093_level0_row4\" class=\"row_heading level0 row4\" >2022-12-30 00:00:00</th>\n",
       "      <td id=\"T_95093_row4_col0\" class=\"data row4 col0\" >1.00</td>\n",
       "      <td id=\"T_95093_row4_col1\" class=\"data row4 col1\" >108,165,785.45</td>\n",
       "      <td id=\"T_95093_row4_col2\" class=\"data row4 col2\" >1.00</td>\n",
       "      <td id=\"T_95093_row4_col3\" class=\"data row4 col3\" >-100,000,000.00</td>\n",
       "    </tr>\n",
       "    <tr>\n",
       "      <th id=\"T_95093_level0_row5\" class=\"row_heading level0 row5\" >2023-12-29 00:00:00</th>\n",
       "      <td id=\"T_95093_row5_col0\" class=\"data row5 col0\" >0.00</td>\n",
       "      <td id=\"T_95093_row5_col1\" class=\"data row5 col1\" >113,305,774.53</td>\n",
       "      <td id=\"T_95093_row5_col2\" class=\"data row5 col2\" >nan</td>\n",
       "      <td id=\"T_95093_row5_col3\" class=\"data row5 col3\" >0.00</td>\n",
       "    </tr>\n",
       "  </tbody>\n",
       "</table>\n"
      ],
      "text/plain": [
       "<pandas.io.formats.style.Styler at 0x14dc7c02480>"
      ]
     },
     "metadata": {},
     "output_type": "display_data"
    }
   ],
   "source": [
    "import pandas as pd\n",
    "\n",
    "def calculate_pnl(strips, date_range, key_long, key_short, initial_size, use_ratio = True):\n",
    "    \"\"\"\n",
    "    Carry trade with:\n",
    "      - Long an N=key_long-year STRIP from t=0 until it matures (rolling down in price each year).\n",
    "      - Each year, short a key_short-year STRIP and close it exactly one year later \n",
    "        at its new price (because it has (key_short - 1) years left).\n",
    "    \n",
    "    If (key_short - 1) < 1 => the short matured => close at 100.\n",
    "    Otherwise => close at strips.loc[new_date, key_short - 1].\n",
    "    \n",
    "    Then (if the long is still alive) re-open a brand-new key_short-year STRIP short \n",
    "    using the updated ratio:\n",
    "        quantity_short = -((remaining_long_years * current_long_price)\n",
    "                           / (key_short * current_short_price)) * quantity_long\n",
    "    \"\"\"\n",
    "    \n",
    "    pnl_data = []       # Store PnL results over time\n",
    "    contracts_data = [] # Store contract quantities\n",
    "    position_data = []  # Store position values\n",
    "    \n",
    "    # ------------------------------------------------\n",
    "    # 1) INITIAL SETUP at the first date\n",
    "    # ------------------------------------------------\n",
    "    t_date = date_range[0]\n",
    "    \n",
    "    # (a) Get the initial long and short STRIP prices\n",
    "    price_long_0  = strips.loc[t_date, key_long]        # key_long-year STRIP\n",
    "    price_short_0 = strips.loc[t_date, key_short]       # key_short-year STRIP\n",
    "    \n",
    "    # (b) Long quantity\n",
    "    quantity_long = initial_size / price_long_0\n",
    "    \n",
    "    # (c) Short quantity at t=0 (using your dynamic ratio for i=0 => 'remaining_long_years' = key_long)\n",
    "    if use_ratio:\n",
    "        quantity_short = -((key_long - 0) * price_long_0) / (key_short * price_short_0) * quantity_long\n",
    "    else:\n",
    "        quantity_short = -initial_size / price_short_0\n",
    "    \n",
    "    # (d) Position values in currency\n",
    "    position_long  = quantity_long * price_long_0\n",
    "    position_short = quantity_short * price_short_0\n",
    "    \n",
    "    # (e) Store the initial snapshots\n",
    "    pnl_data.append([t_date, 0.0, 0.0, 0.0])\n",
    "    contracts_data.append([t_date, key_long, quantity_long, key_short, quantity_short])\n",
    "    position_data.append([t_date, key_long, position_long, key_short, position_short])\n",
    "    \n",
    "    # Track prior step’s position values for PnL calculations\n",
    "    prev_long_val = position_long\n",
    "    \n",
    "    # For the *short side*, we need to remember how many years were left when we opened it\n",
    "    # (initially it's key_short) so that after 1 year it is (key_short - 1).\n",
    "    old_short_maturity = key_short\n",
    "    old_short_price    = price_short_0\n",
    "    old_short_qty      = quantity_short\n",
    "    prev_short_val     = position_short\n",
    "\n",
    "    # ------------------------------------------------\n",
    "    # 2) LOOP OVER REMAINING DATES\n",
    "    # ------------------------------------------------\n",
    "    for i in range(1, len(date_range)):\n",
    "        t2_date = date_range[i]\n",
    "        \n",
    "        # ~~~~~~~~~ LONG BOND: ROLL DOWN OR MATURE? ~~~~~~~~~\n",
    "        remaining_long_years = key_long - i\n",
    "        if remaining_long_years < 1:\n",
    "            # The long bond matured => close at 100\n",
    "            price_long_new = 100.0\n",
    "        else:\n",
    "            # The bond now is (key_long - i)-year strip\n",
    "            price_long_new = strips.loc[t2_date, remaining_long_years]\n",
    "\n",
    "        position_long_new = quantity_long * price_long_new\n",
    "        pnl_long = position_long_new - prev_long_val\n",
    "        \n",
    "        # ~~~~~~~~~ SHORT BOND: CLOSE THE OLD ONE ~~~~~~~~~\n",
    "        # Old short maturity after 1 year = (old_short_maturity - 1).\n",
    "        new_short_mty_after_1y = old_short_maturity - 1\n",
    "        \n",
    "        # If that is < 1 => it matured => settle at 100.\n",
    "        if new_short_mty_after_1y < 1:\n",
    "            close_price = 100.0\n",
    "        else:\n",
    "            # Otherwise, it is still alive with (old_short_maturity - 1) years left\n",
    "            close_price = strips.loc[t2_date, new_short_mty_after_1y]\n",
    "        \n",
    "        # Realized PnL from closing old short\n",
    "        pnl_short_close = old_short_qty * (close_price - old_short_price)\n",
    "        \n",
    "        # ~~~~~~~~~ SHORT BOND: OPEN A NEW ONE (ROLL) ~~~~~~~~~\n",
    "        # Only open new short if the long is still alive\n",
    "        if remaining_long_years >= 1:\n",
    "            # Price of the new key_short-year strip at t2_date\n",
    "            new_short_price = strips.loc[t2_date, key_short]\n",
    "            \n",
    "            # Recompute the short quantity:\n",
    "            # quantity_short = -((remaining_long_years * price_long_new)\n",
    "            #                    / (key_short * new_short_price)) * quantity_long\n",
    "            if use_ratio:\n",
    "                new_short_qty = -((remaining_long_years) * price_long_new) / (key_short * new_short_price) * quantity_long\n",
    "            else:\n",
    "                new_short_qty = -initial_size / new_short_price\n",
    "\n",
    "            \n",
    "            position_short_new = new_short_qty * new_short_price\n",
    "            \n",
    "            # The new short maturity is always 'key_short'\n",
    "            fresh_short_maturity = key_short\n",
    "        else:\n",
    "            # The long bond is done => no short position\n",
    "            new_short_price      = 0.0\n",
    "            new_short_qty        = 0.0\n",
    "            position_short_new   = 0.0\n",
    "            fresh_short_maturity = None\n",
    "        \n",
    "        # Short PnL for this step is just from closing the old short\n",
    "        pnl_short = pnl_short_close\n",
    "        \n",
    "        # Net\n",
    "        net_pnl = pnl_long + pnl_short\n",
    "        \n",
    "        # ~~~~~~~~~ STORE RESULTS ~~~~~~~~~\n",
    "        pnl_data.append([t2_date, pnl_long, pnl_short, net_pnl])\n",
    "        contracts_data.append([\n",
    "            t2_date,\n",
    "            max(remaining_long_years, 0), \n",
    "            quantity_long,\n",
    "            fresh_short_maturity,\n",
    "            new_short_qty\n",
    "        ])\n",
    "        position_data.append([\n",
    "            t2_date,\n",
    "            max(remaining_long_years, 0), \n",
    "            position_long_new,\n",
    "            fresh_short_maturity,\n",
    "            position_short_new\n",
    "        ])\n",
    "        \n",
    "        # ~~~~~~~~~ UPDATE for next iteration ~~~~~~~~~\n",
    "        prev_long_val  = position_long_new\n",
    "        \n",
    "        old_short_maturity = fresh_short_maturity if fresh_short_maturity is not None else 0\n",
    "        old_short_price    = new_short_price\n",
    "        old_short_qty      = new_short_qty\n",
    "        prev_short_val     = position_short_new\n",
    "\n",
    "    # ------------------------------------------------\n",
    "    # 3) MAKE DATAFRAMES\n",
    "    # ------------------------------------------------\n",
    "    pnl_df = pd.DataFrame(\n",
    "        pnl_data, \n",
    "        columns=[\"Date\", \"Long PnL\", \"Short PnL\", \"Net PnL\"]\n",
    "    ).set_index(\"Date\")\n",
    "    \n",
    "    contracts_df = pd.DataFrame(\n",
    "        contracts_data,\n",
    "        columns=[\"Date\", \"Long Bond\", \"Long Qty\", \"Short Bond\", \"Short Qty\"]\n",
    "    ).set_index(\"Date\")\n",
    "    \n",
    "    position_df = pd.DataFrame(\n",
    "        position_data,\n",
    "        columns=[\"Date\", \"Long Bond\", \"Long Position\", \"Short Bond\", \"Short Position\"]\n",
    "    ).set_index(\"Date\")\n",
    "    \n",
    "    return pnl_df, contracts_df, position_df\n",
    "\n",
    "# Example Usage\n",
    "path = \"../data/famabliss_strips_2023-12-29.xlsx\"\n",
    "strips = pd.read_excel(path, index_col=0)\n",
    "strips = strips.loc['2018-12-01'::12]\n",
    "\n",
    "# Suppose we pick 6 annual dates so that we hold the 5y bond from t=0 to t=5\n",
    "date_range = strips.index\n",
    "key_long = 5\n",
    "key_short = 1\n",
    "initial_size = 100e6\n",
    "\n",
    "pnl_df, contracts_df, position_df = calculate_pnl(strips, date_range, key_long, key_short, initial_size, use_ratio=False)\n",
    "\n",
    "display(pnl_df.style.format(\"{:,.2f}\"))\n",
    "display(contracts_df.style.format(\"{:,.2f}\"))\n",
    "display(position_df.style.format(\"{:,.2f}\"))\n"
   ]
  },
  {
   "cell_type": "code",
   "execution_count": 9,
   "metadata": {},
   "outputs": [
    {
     "data": {
      "text/html": [
       "<div>\n",
       "<style scoped>\n",
       "    .dataframe tbody tr th:only-of-type {\n",
       "        vertical-align: middle;\n",
       "    }\n",
       "\n",
       "    .dataframe tbody tr th {\n",
       "        vertical-align: top;\n",
       "    }\n",
       "\n",
       "    .dataframe thead th {\n",
       "        text-align: right;\n",
       "    }\n",
       "</style>\n",
       "<table border=\"1\" class=\"dataframe\">\n",
       "  <thead>\n",
       "    <tr style=\"text-align: right;\">\n",
       "      <th></th>\n",
       "      <th>1</th>\n",
       "      <th>2</th>\n",
       "      <th>3</th>\n",
       "      <th>4</th>\n",
       "      <th>5</th>\n",
       "    </tr>\n",
       "    <tr>\n",
       "      <th>date</th>\n",
       "      <th></th>\n",
       "      <th></th>\n",
       "      <th></th>\n",
       "      <th></th>\n",
       "      <th></th>\n",
       "    </tr>\n",
       "  </thead>\n",
       "  <tbody>\n",
       "    <tr>\n",
       "      <th>2018-12-31</th>\n",
       "      <td>97.430953</td>\n",
       "      <td>95.195917</td>\n",
       "      <td>92.932725</td>\n",
       "      <td>90.580051</td>\n",
       "      <td>88.256755</td>\n",
       "    </tr>\n",
       "    <tr>\n",
       "      <th>2019-12-31</th>\n",
       "      <td>98.439417</td>\n",
       "      <td>96.893838</td>\n",
       "      <td>95.296407</td>\n",
       "      <td>93.570973</td>\n",
       "      <td>91.890972</td>\n",
       "    </tr>\n",
       "    <tr>\n",
       "      <th>2020-12-31</th>\n",
       "      <td>99.895864</td>\n",
       "      <td>99.751989</td>\n",
       "      <td>99.529858</td>\n",
       "      <td>98.945476</td>\n",
       "      <td>98.153653</td>\n",
       "    </tr>\n",
       "    <tr>\n",
       "      <th>2021-12-31</th>\n",
       "      <td>99.617322</td>\n",
       "      <td>98.550001</td>\n",
       "      <td>97.125082</td>\n",
       "      <td>95.487194</td>\n",
       "      <td>93.866839</td>\n",
       "    </tr>\n",
       "    <tr>\n",
       "      <th>2022-12-30</th>\n",
       "      <td>95.463612</td>\n",
       "      <td>91.622900</td>\n",
       "      <td>88.334676</td>\n",
       "      <td>85.104591</td>\n",
       "      <td>82.029785</td>\n",
       "    </tr>\n",
       "    <tr>\n",
       "      <th>2023-12-29</th>\n",
       "      <td>95.378749</td>\n",
       "      <td>91.964449</td>\n",
       "      <td>88.852295</td>\n",
       "      <td>85.667229</td>\n",
       "      <td>82.673963</td>\n",
       "    </tr>\n",
       "  </tbody>\n",
       "</table>\n",
       "</div>"
      ],
      "text/plain": [
       "                    1          2          3          4          5\n",
       "date                                                             \n",
       "2018-12-31  97.430953  95.195917  92.932725  90.580051  88.256755\n",
       "2019-12-31  98.439417  96.893838  95.296407  93.570973  91.890972\n",
       "2020-12-31  99.895864  99.751989  99.529858  98.945476  98.153653\n",
       "2021-12-31  99.617322  98.550001  97.125082  95.487194  93.866839\n",
       "2022-12-30  95.463612  91.622900  88.334676  85.104591  82.029785\n",
       "2023-12-29  95.378749  91.964449  88.852295  85.667229  82.673963"
      ]
     },
     "execution_count": 9,
     "metadata": {},
     "output_type": "execute_result"
    }
   ],
   "source": []
  },
  {
   "cell_type": "markdown",
   "metadata": {},
   "source": [
    "### 1. (10pts)\n",
    "\n",
    "Set up a trade as of `2010-01-29` to \n",
    "* go long 100 million (market value) of the 5-year.\n",
    "* short the 2-year strips in a quantity that is duration hedged.\n",
    "\n",
    "List the positions you hold long and short. \n",
    "* Assume you are financing the positions directly; no worries about haircuts. \n",
    "* Assume there are no market frictions, so you can short securities and immediately receive their market value. \n",
    "* (No need to worry about borrowing costs for the short.)"
   ]
  },
  {
   "cell_type": "code",
   "execution_count": 18,
   "metadata": {},
   "outputs": [
    {
     "data": {
      "text/html": [
       "<style type=\"text/css\">\n",
       "</style>\n",
       "<table id=\"T_9b6f6\">\n",
       "  <thead>\n",
       "    <tr>\n",
       "      <th class=\"blank level0\" >&nbsp;</th>\n",
       "      <th id=\"T_9b6f6_level0_col0\" class=\"col_heading level0 col0\" >Price</th>\n",
       "      <th id=\"T_9b6f6_level0_col1\" class=\"col_heading level0 col1\" >Contracts</th>\n",
       "      <th id=\"T_9b6f6_level0_col2\" class=\"col_heading level0 col2\" >Position</th>\n",
       "    </tr>\n",
       "  </thead>\n",
       "  <tbody>\n",
       "    <tr>\n",
       "      <th id=\"T_9b6f6_level0_row0\" class=\"row_heading level0 row0\" >5</th>\n",
       "      <td id=\"T_9b6f6_row0_col0\" class=\"data row0 col0\" >88.90</td>\n",
       "      <td id=\"T_9b6f6_row0_col1\" class=\"data row0 col1\" >1,124,880.49</td>\n",
       "      <td id=\"T_9b6f6_row0_col2\" class=\"data row0 col2\" >100,000,000.00</td>\n",
       "    </tr>\n",
       "    <tr>\n",
       "      <th id=\"T_9b6f6_level0_row1\" class=\"row_heading level0 row1\" >2</th>\n",
       "      <td id=\"T_9b6f6_row1_col0\" class=\"data row1 col0\" >98.43</td>\n",
       "      <td id=\"T_9b6f6_row1_col1\" class=\"data row1 col1\" >-2,539,847.73</td>\n",
       "      <td id=\"T_9b6f6_row1_col2\" class=\"data row1 col2\" >-250,000,000.00</td>\n",
       "    </tr>\n",
       "    <tr>\n",
       "      <th id=\"T_9b6f6_level0_row2\" class=\"row_heading level0 row2\" >Net</th>\n",
       "      <td id=\"T_9b6f6_row2_col0\" class=\"data row2 col0\" >nan</td>\n",
       "      <td id=\"T_9b6f6_row2_col1\" class=\"data row2 col1\" >nan</td>\n",
       "      <td id=\"T_9b6f6_row2_col2\" class=\"data row2 col2\" >-150,000,000.00</td>\n",
       "    </tr>\n",
       "  </tbody>\n",
       "</table>\n"
      ],
      "text/plain": [
       "<pandas.io.formats.style.Styler at 0x20d25328620>"
      ]
     },
     "metadata": {},
     "output_type": "display_data"
    }
   ],
   "source": [
    "t_date = \"2010-01-29\"\n",
    "long_position = 100e6\n",
    "key_long = 5\n",
    "key_short = 2\n",
    "price_long = strips.loc[t_date, key_long]\n",
    "price_short = strips.loc[t_date, key_short]\n",
    "\n",
    "quantity_long = long_position / price_long\n",
    "quantity_short = -((5*price_long)/(2*price_short)) * quantity_long\n",
    "\n",
    "position_long = quantity_long * price_long\n",
    "position_short = quantity_short * price_short\n",
    "\n",
    "summary = pd.DataFrame(index=[key_long, key_short], columns=[\"Price\", \"Contracts\", \"Position\"], dtype=float)\n",
    "summary.loc[key_long] = [price_long, quantity_long, position_long]\n",
    "summary.loc[key_short] = [price_short, quantity_short, position_short]\n",
    "summary.loc[\"Net\", \"Position\"] = position_long + position_short\n",
    "\n",
    "display(summary.style.format(\"{:,.2f}\"))"
   ]
  },
  {
   "cell_type": "markdown",
   "metadata": {},
   "source": [
    "### 2. (5pts)\n",
    "As of `2011-01-31`, assess the pnl on the long, short, and net trade."
   ]
  },
  {
   "cell_type": "code",
   "execution_count": 19,
   "metadata": {},
   "outputs": [
    {
     "data": {
      "text/html": [
       "<style type=\"text/css\">\n",
       "</style>\n",
       "<table id=\"T_f13a4\">\n",
       "  <thead>\n",
       "    <tr>\n",
       "      <th class=\"blank level0\" >&nbsp;</th>\n",
       "      <th id=\"T_f13a4_level0_col0\" class=\"col_heading level0 col0\" >Price</th>\n",
       "      <th id=\"T_f13a4_level0_col1\" class=\"col_heading level0 col1\" >Contracts</th>\n",
       "      <th id=\"T_f13a4_level0_col2\" class=\"col_heading level0 col2\" >Position</th>\n",
       "      <th id=\"T_f13a4_level0_col3\" class=\"col_heading level0 col3\" >New Price</th>\n",
       "      <th id=\"T_f13a4_level0_col4\" class=\"col_heading level0 col4\" >New Position</th>\n",
       "      <th id=\"T_f13a4_level0_col5\" class=\"col_heading level0 col5\" >PnL</th>\n",
       "    </tr>\n",
       "  </thead>\n",
       "  <tbody>\n",
       "    <tr>\n",
       "      <th id=\"T_f13a4_level0_row0\" class=\"row_heading level0 row0\" >5</th>\n",
       "      <td id=\"T_f13a4_row0_col0\" class=\"data row0 col0\" >88.90</td>\n",
       "      <td id=\"T_f13a4_row0_col1\" class=\"data row0 col1\" >1,124,880.49</td>\n",
       "      <td id=\"T_f13a4_row0_col2\" class=\"data row0 col2\" >100,000,000.00</td>\n",
       "      <td id=\"T_f13a4_row0_col3\" class=\"data row0 col3\" >94.39</td>\n",
       "      <td id=\"T_f13a4_row0_col4\" class=\"data row0 col4\" >106,179,199.31</td>\n",
       "      <td id=\"T_f13a4_row0_col5\" class=\"data row0 col5\" >6,179,199.31</td>\n",
       "    </tr>\n",
       "    <tr>\n",
       "      <th id=\"T_f13a4_level0_row1\" class=\"row_heading level0 row1\" >2</th>\n",
       "      <td id=\"T_f13a4_row1_col0\" class=\"data row1 col0\" >98.43</td>\n",
       "      <td id=\"T_f13a4_row1_col1\" class=\"data row1 col1\" >-2,539,847.73</td>\n",
       "      <td id=\"T_f13a4_row1_col2\" class=\"data row1 col2\" >-250,000,000.00</td>\n",
       "      <td id=\"T_f13a4_row1_col3\" class=\"data row1 col3\" >99.69</td>\n",
       "      <td id=\"T_f13a4_row1_col4\" class=\"data row1 col4\" >-253,195,323.56</td>\n",
       "      <td id=\"T_f13a4_row1_col5\" class=\"data row1 col5\" >-3,195,323.56</td>\n",
       "    </tr>\n",
       "    <tr>\n",
       "      <th id=\"T_f13a4_level0_row2\" class=\"row_heading level0 row2\" >Net</th>\n",
       "      <td id=\"T_f13a4_row2_col0\" class=\"data row2 col0\" >nan</td>\n",
       "      <td id=\"T_f13a4_row2_col1\" class=\"data row2 col1\" >nan</td>\n",
       "      <td id=\"T_f13a4_row2_col2\" class=\"data row2 col2\" >-150,000,000.00</td>\n",
       "      <td id=\"T_f13a4_row2_col3\" class=\"data row2 col3\" >nan</td>\n",
       "      <td id=\"T_f13a4_row2_col4\" class=\"data row2 col4\" >-147,016,124.25</td>\n",
       "      <td id=\"T_f13a4_row2_col5\" class=\"data row2 col5\" >2,983,875.75</td>\n",
       "    </tr>\n",
       "  </tbody>\n",
       "</table>\n"
      ],
      "text/plain": [
       "<pandas.io.formats.style.Styler at 0x20d4772eb40>"
      ]
     },
     "metadata": {},
     "output_type": "display_data"
    }
   ],
   "source": [
    "t2_date = \"2011-01-31\"\n",
    "\n",
    "price_long = strips.loc[t2_date, key_long-1]\n",
    "price_short = strips.loc[t2_date, key_short-1]\n",
    "\n",
    "position_long = quantity_long * price_long\n",
    "position_short = quantity_short * price_short\n",
    "\n",
    "summary.loc[key_long, \"New Price\"] = price_long\n",
    "summary.loc[key_short, \"New Price\"] = price_short\n",
    "summary.loc[key_long, \"New Position\"] = position_long\n",
    "summary.loc[key_short, \"New Position\"] = position_short\n",
    "summary.loc[\"Net\", \"New Position\"] = position_long + position_short\n",
    "\n",
    "summary[\"PnL\"] = summary[\"New Position\"] - summary[\"Position\"]\n",
    "\n",
    "display(summary.style.format(\"{:,.2f}\"))\n",
    "\n",
    "PnL = summary.loc[\"Net\", \"PnL\"]"
   ]
  },
  {
   "cell_type": "markdown",
   "metadata": {},
   "source": [
    "### 3. (10pts)\n",
    "On `2011-01-31`, roll over the trade.\n",
    "* close out the short positions\n",
    "* enter new short positions in 2-year strips that are a duration hedge against your (continuing) long positions.\n",
    "\n",
    "List the details of your short and long positions in terms of market value and face value of each side of the trade."
   ]
  },
  {
   "cell_type": "code",
   "execution_count": 20,
   "metadata": {},
   "outputs": [
    {
     "data": {
      "text/html": [
       "<style type=\"text/css\">\n",
       "</style>\n",
       "<table id=\"T_c7d39\">\n",
       "  <thead>\n",
       "    <tr>\n",
       "      <th class=\"blank level0\" >&nbsp;</th>\n",
       "      <th id=\"T_c7d39_level0_col0\" class=\"col_heading level0 col0\" >Price</th>\n",
       "      <th id=\"T_c7d39_level0_col1\" class=\"col_heading level0 col1\" >Contracts</th>\n",
       "      <th id=\"T_c7d39_level0_col2\" class=\"col_heading level0 col2\" >Position</th>\n",
       "    </tr>\n",
       "  </thead>\n",
       "  <tbody>\n",
       "    <tr>\n",
       "      <th id=\"T_c7d39_level0_row0\" class=\"row_heading level0 row0\" >4</th>\n",
       "      <td id=\"T_c7d39_row0_col0\" class=\"data row0 col0\" >94.39</td>\n",
       "      <td id=\"T_c7d39_row0_col1\" class=\"data row0 col1\" >1,124,880.49</td>\n",
       "      <td id=\"T_c7d39_row0_col2\" class=\"data row0 col2\" >106,179,199.31</td>\n",
       "    </tr>\n",
       "    <tr>\n",
       "      <th id=\"T_c7d39_level0_row1\" class=\"row_heading level0 row1\" >2</th>\n",
       "      <td id=\"T_c7d39_row1_col0\" class=\"data row1 col0\" >98.93</td>\n",
       "      <td id=\"T_c7d39_row1_col1\" class=\"data row1 col1\" >-2,146,606.59</td>\n",
       "      <td id=\"T_c7d39_row1_col2\" class=\"data row1 col2\" >-212,358,398.62</td>\n",
       "    </tr>\n",
       "    <tr>\n",
       "      <th id=\"T_c7d39_level0_row2\" class=\"row_heading level0 row2\" >Net</th>\n",
       "      <td id=\"T_c7d39_row2_col0\" class=\"data row2 col0\" >nan</td>\n",
       "      <td id=\"T_c7d39_row2_col1\" class=\"data row2 col1\" >nan</td>\n",
       "      <td id=\"T_c7d39_row2_col2\" class=\"data row2 col2\" >-106,179,199.31</td>\n",
       "    </tr>\n",
       "  </tbody>\n",
       "</table>\n"
      ],
      "text/plain": [
       "<pandas.io.formats.style.Styler at 0x20d47793aa0>"
      ]
     },
     "metadata": {},
     "output_type": "display_data"
    }
   ],
   "source": [
    "PnL_2y = summary.loc[key_short, \"PnL\"]\n",
    "\n",
    "price_short = strips.loc[t2_date, key_short]\n",
    "price_long = strips.loc[t2_date, key_long-1]\n",
    "\n",
    "quantity_long = summary.loc[key_long, \"Contracts\"]\n",
    "quantity_short = -(((key_long-1)*price_long)/(key_short*price_short)) * quantity_long\n",
    "\n",
    "position_long = quantity_long * price_long\n",
    "position_short = quantity_short * price_short\n",
    "\n",
    "\n",
    "summary2 = pd.DataFrame(index=[key_long-1, key_short], columns=[\"Price\", \"Contracts\", \"Position\"], dtype=float)\n",
    "summary2.loc[key_long-1] = [price_long, quantity_long, position_long]\n",
    "summary2.loc[key_short] = [price_short, quantity_short, position_short]\n",
    "summary2.loc[\"Net\", \"Position\"] = position_long + position_short \n",
    "\n",
    "display(summary2.style.format(\"{:,.2f}\"))\n",
    "\n"
   ]
  },
  {
   "cell_type": "markdown",
   "metadata": {},
   "source": [
    "### 4. (5pts)\n",
    "On `2012-01-31`, close out the trade.\n",
    "\n",
    "Report...\n",
    "* pnl for the long, short, and net of the trade."
   ]
  },
  {
   "cell_type": "code",
   "execution_count": 21,
   "metadata": {},
   "outputs": [
    {
     "data": {
      "text/html": [
       "<style type=\"text/css\">\n",
       "</style>\n",
       "<table id=\"T_13beb\">\n",
       "  <thead>\n",
       "    <tr>\n",
       "      <th class=\"blank level0\" >&nbsp;</th>\n",
       "      <th id=\"T_13beb_level0_col0\" class=\"col_heading level0 col0\" >Price</th>\n",
       "      <th id=\"T_13beb_level0_col1\" class=\"col_heading level0 col1\" >Contracts</th>\n",
       "      <th id=\"T_13beb_level0_col2\" class=\"col_heading level0 col2\" >Position</th>\n",
       "      <th id=\"T_13beb_level0_col3\" class=\"col_heading level0 col3\" >New Price</th>\n",
       "      <th id=\"T_13beb_level0_col4\" class=\"col_heading level0 col4\" >New Position</th>\n",
       "      <th id=\"T_13beb_level0_col5\" class=\"col_heading level0 col5\" >PnL</th>\n",
       "    </tr>\n",
       "  </thead>\n",
       "  <tbody>\n",
       "    <tr>\n",
       "      <th id=\"T_13beb_level0_row0\" class=\"row_heading level0 row0\" >4</th>\n",
       "      <td id=\"T_13beb_row0_col0\" class=\"data row0 col0\" >94.39</td>\n",
       "      <td id=\"T_13beb_row0_col1\" class=\"data row0 col1\" >1,124,880.49</td>\n",
       "      <td id=\"T_13beb_row0_col2\" class=\"data row0 col2\" >106,179,199.31</td>\n",
       "      <td id=\"T_13beb_row0_col3\" class=\"data row0 col3\" >99.09</td>\n",
       "      <td id=\"T_13beb_row0_col4\" class=\"data row0 col4\" >111,463,430.86</td>\n",
       "      <td id=\"T_13beb_row0_col5\" class=\"data row0 col5\" >5,284,231.55</td>\n",
       "    </tr>\n",
       "    <tr>\n",
       "      <th id=\"T_13beb_level0_row1\" class=\"row_heading level0 row1\" >2</th>\n",
       "      <td id=\"T_13beb_row1_col0\" class=\"data row1 col0\" >98.93</td>\n",
       "      <td id=\"T_13beb_row1_col1\" class=\"data row1 col1\" >-2,146,606.59</td>\n",
       "      <td id=\"T_13beb_row1_col2\" class=\"data row1 col2\" >-212,358,398.62</td>\n",
       "      <td id=\"T_13beb_row1_col3\" class=\"data row1 col3\" >99.85</td>\n",
       "      <td id=\"T_13beb_row1_col4\" class=\"data row1 col4\" >-214,333,056.70</td>\n",
       "      <td id=\"T_13beb_row1_col5\" class=\"data row1 col5\" >-1,974,658.08</td>\n",
       "    </tr>\n",
       "    <tr>\n",
       "      <th id=\"T_13beb_level0_row2\" class=\"row_heading level0 row2\" >Net</th>\n",
       "      <td id=\"T_13beb_row2_col0\" class=\"data row2 col0\" >nan</td>\n",
       "      <td id=\"T_13beb_row2_col1\" class=\"data row2 col1\" >nan</td>\n",
       "      <td id=\"T_13beb_row2_col2\" class=\"data row2 col2\" >-106,179,199.31</td>\n",
       "      <td id=\"T_13beb_row2_col3\" class=\"data row2 col3\" >nan</td>\n",
       "      <td id=\"T_13beb_row2_col4\" class=\"data row2 col4\" >-102,869,625.84</td>\n",
       "      <td id=\"T_13beb_row2_col5\" class=\"data row2 col5\" >3,309,573.47</td>\n",
       "    </tr>\n",
       "  </tbody>\n",
       "</table>\n"
      ],
      "text/plain": [
       "<pandas.io.formats.style.Styler at 0x20d476bb230>"
      ]
     },
     "metadata": {},
     "output_type": "display_data"
    }
   ],
   "source": [
    "t3_date = \"2012-01-31\"\n",
    "\n",
    "price_long = strips.loc[t3_date, key_long-2]\n",
    "price_short = strips.loc[t3_date, key_short-1]\n",
    "\n",
    "position_long = quantity_long * price_long\n",
    "position_short = quantity_short * price_short\n",
    "\n",
    "summary2.loc[key_long-1, \"New Price\"] = price_long\n",
    "summary2.loc[key_short, \"New Price\"] = price_short\n",
    "summary2.loc[key_long-1, \"New Position\"] = position_long\n",
    "summary2.loc[key_short, \"New Position\"] = position_short\n",
    "summary2.loc[\"Net\", \"New Position\"] = position_long + position_short\n",
    "\n",
    "summary2[\"PnL\"] = summary2[\"New Position\"] - summary2[\"Position\"]\n",
    "\n",
    "display(summary2.style.format(\"{:,.2f}\"))\n"
   ]
  },
  {
   "cell_type": "code",
   "execution_count": 22,
   "metadata": {},
   "outputs": [
    {
     "data": {
      "text/html": [
       "<style type=\"text/css\">\n",
       "</style>\n",
       "<table id=\"T_705c1\">\n",
       "  <thead>\n",
       "    <tr>\n",
       "      <th class=\"blank level0\" >&nbsp;</th>\n",
       "      <th id=\"T_705c1_level0_col0\" class=\"col_heading level0 col0\" >PnL_1y</th>\n",
       "      <th id=\"T_705c1_level0_col1\" class=\"col_heading level0 col1\" >PnL_2y</th>\n",
       "      <th id=\"T_705c1_level0_col2\" class=\"col_heading level0 col2\" >Cumulative PnL</th>\n",
       "    </tr>\n",
       "  </thead>\n",
       "  <tbody>\n",
       "    <tr>\n",
       "      <th id=\"T_705c1_level0_row0\" class=\"row_heading level0 row0\" >5</th>\n",
       "      <td id=\"T_705c1_row0_col0\" class=\"data row0 col0\" >6,179,199.31</td>\n",
       "      <td id=\"T_705c1_row0_col1\" class=\"data row0 col1\" >5,284,231.55</td>\n",
       "      <td id=\"T_705c1_row0_col2\" class=\"data row0 col2\" >11,463,430.86</td>\n",
       "    </tr>\n",
       "    <tr>\n",
       "      <th id=\"T_705c1_level0_row1\" class=\"row_heading level0 row1\" >2</th>\n",
       "      <td id=\"T_705c1_row1_col0\" class=\"data row1 col0\" >-3,195,323.56</td>\n",
       "      <td id=\"T_705c1_row1_col1\" class=\"data row1 col1\" >-1,974,658.08</td>\n",
       "      <td id=\"T_705c1_row1_col2\" class=\"data row1 col2\" >-5,169,981.64</td>\n",
       "    </tr>\n",
       "    <tr>\n",
       "      <th id=\"T_705c1_level0_row2\" class=\"row_heading level0 row2\" >Net</th>\n",
       "      <td id=\"T_705c1_row2_col0\" class=\"data row2 col0\" >2,983,875.75</td>\n",
       "      <td id=\"T_705c1_row2_col1\" class=\"data row2 col1\" >3,309,573.47</td>\n",
       "      <td id=\"T_705c1_row2_col2\" class=\"data row2 col2\" >6,293,449.22</td>\n",
       "    </tr>\n",
       "  </tbody>\n",
       "</table>\n"
      ],
      "text/plain": [
       "<pandas.io.formats.style.Styler at 0x20d4772d910>"
      ]
     },
     "metadata": {},
     "output_type": "display_data"
    }
   ],
   "source": [
    "acumulated_pnl = pd.concat([summary[\"PnL\"], summary2[\"PnL\"]], axis=1)\n",
    "acumulated_pnl.columns = [\"PnL_1y\", \"PnL_2y\"]\n",
    "acumulated_pnl.loc[5, \"PnL_2y\"] = acumulated_pnl.loc[4, \"PnL_2y\"]\n",
    "acumulated_pnl.drop(4, inplace=True)\n",
    "acumulated_pnl[\"Cumulative PnL\"] = acumulated_pnl.sum(axis=1)\n",
    "display(acumulated_pnl.style.format(\"{:,.2f}\"))"
   ]
  },
  {
   "cell_type": "markdown",
   "metadata": {},
   "source": [
    "### 5. (5pts)\n",
    "How did this trade do compared to a long-only trade in 5-year notes? Explain."
   ]
  },
  {
   "cell_type": "markdown",
   "metadata": {},
   "source": [
    "*Answer:* The trade made it worst than only holding the 5-year STRIPS. While the 5-year STRIPS had a positive PnL, the 2-year STRIPS rolling position had a negative PnL."
   ]
  },
  {
   "cell_type": "markdown",
   "metadata": {},
   "source": [
    "### 6. (5pts)\n",
    "\n",
    "Notwithstanding the duration hedge, why was the trade still sensitive to changing levels of the spot rate curve?\n",
    "\n",
    "Be specific in your answer, and consider which quantitative metric would support your answer."
   ]
  },
  {
   "cell_type": "markdown",
   "metadata": {},
   "source": [
    "*Answer:* While we are hedging the position for the duration (which is the sentivity to a parallel shift of the curve), the long-short trade has a positive convexity, this means that the change on the curvature also impact to the resulting PnL"
   ]
  },
  {
   "cell_type": "markdown",
   "metadata": {},
   "source": [
    "### 7. (5pts)\n",
    "\n",
    "Does this trade rely on the Expectations Hypothesis being true or false? How about this type of trade in general?"
   ]
  },
  {
   "cell_type": "markdown",
   "metadata": {},
   "source": [
    "*Answer :* This type of trades don't depend on the EH, because these trades rely on the carry trade, that means on average there is a positive return in holding the higher yield security. And the EH said the long term rates are on average, the short term rates, not for a specific period"
   ]
  },
  {
   "cell_type": "markdown",
   "metadata": {},
   "source": [
    "### 8. (5pts)\n",
    "\n",
    "As of `2012-01-31`, is the market environment favorable to this type of long-short trade?\n",
    "\n",
    "Be specific."
   ]
  },
  {
   "cell_type": "code",
   "execution_count": 23,
   "metadata": {},
   "outputs": [
    {
     "data": {
      "text/plain": [
       "<Axes: >"
      ]
     },
     "execution_count": 23,
     "metadata": {},
     "output_type": "execute_result"
    },
    {
     "data": {
      "image/png": "[encoded data removed]",
      "text/plain": [
       "<Figure size 640x480 with 1 Axes>"
      ]
     },
     "metadata": {},
     "output_type": "display_data"
    }
   ],
   "source": [
    "implied_rates = -np.log(strips/100)/strips.columns\n",
    "implied_rates.loc[\"2012-01-31\"].plot()"
   ]
  },
  {
   "cell_type": "markdown",
   "metadata": {},
   "source": [
    "*Answer :* Even when the curve has an upward slope, it's almost flat, according to EH is not favorable for these type of trades"
   ]
  },
  {
   "cell_type": "markdown",
   "metadata": {},
   "source": [
    "### 9. (5pts)\n",
    "\n",
    "As of `2010-01-29`, what is the continuously compounded forward rate from $T_1=2\\to T_2=4$?"
   ]
  },
  {
   "cell_type": "code",
   "execution_count": 24,
   "metadata": {},
   "outputs": [
    {
     "name": "stdout",
     "output_type": "stream",
     "text": [
      "The forward rate from 2 to 4 years is: 2.8931%\n"
     ]
    }
   ],
   "source": [
    "strips_transposed = strips.T/100\n",
    "fwd_discount = strips_transposed.loc[4, \"2010-01-29\"]/strips_transposed.loc[2, \"2010-01-29\"]\n",
    "fwd_rate = -np.log(fwd_discount)/2\n",
    "print(f\"The forward rate from 2 to 4 years is: {fwd_rate:.4%}\")"
   ]
  },
  {
   "cell_type": "code",
   "execution_count": 25,
   "metadata": {},
   "outputs": [],
   "source": [
    "fwd_discount = strips_transposed/strips_transposed.shift(2)\n",
    "fwd_discount.iloc[1] = strips_transposed.iloc[1]\n",
    "fwd_rate = -np.log(fwd_discount)/2"
   ]
  },
  {
   "cell_type": "code",
   "execution_count": 26,
   "metadata": {},
   "outputs": [
    {
     "data": {
      "text/html": [
       "<style type=\"text/css\">\n",
       "</style>\n",
       "<table id=\"T_c5091\">\n",
       "  <thead>\n",
       "    <tr>\n",
       "      <th class=\"blank level0\" >&nbsp;</th>\n",
       "      <th id=\"T_c5091_level0_col0\" class=\"col_heading level0 col0\" >1</th>\n",
       "      <th id=\"T_c5091_level0_col1\" class=\"col_heading level0 col1\" >2</th>\n",
       "      <th id=\"T_c5091_level0_col2\" class=\"col_heading level0 col2\" >3</th>\n",
       "      <th id=\"T_c5091_level0_col3\" class=\"col_heading level0 col3\" >4</th>\n",
       "      <th id=\"T_c5091_level0_col4\" class=\"col_heading level0 col4\" >5</th>\n",
       "    </tr>\n",
       "    <tr>\n",
       "      <th class=\"index_name level0\" >date</th>\n",
       "      <th class=\"blank col0\" >&nbsp;</th>\n",
       "      <th class=\"blank col1\" >&nbsp;</th>\n",
       "      <th class=\"blank col2\" >&nbsp;</th>\n",
       "      <th class=\"blank col3\" >&nbsp;</th>\n",
       "      <th class=\"blank col4\" >&nbsp;</th>\n",
       "    </tr>\n",
       "  </thead>\n",
       "  <tbody>\n",
       "    <tr>\n",
       "      <th id=\"T_c5091_level0_row0\" class=\"row_heading level0 row0\" >2010-01-29 00:00:00</th>\n",
       "      <td id=\"T_c5091_row0_col0\" class=\"data row0 col0\" >nan%</td>\n",
       "      <td id=\"T_c5091_row0_col1\" class=\"data row0 col1\" >0.79%</td>\n",
       "      <td id=\"T_c5091_row0_col2\" class=\"data row0 col2\" >1.84%</td>\n",
       "      <td id=\"T_c5091_row0_col3\" class=\"data row0 col3\" >2.89%</td>\n",
       "      <td id=\"T_c5091_row0_col4\" class=\"data row0 col4\" >3.88%</td>\n",
       "    </tr>\n",
       "    <tr>\n",
       "      <th id=\"T_c5091_level0_row1\" class=\"row_heading level0 row1\" >2011-01-31 00:00:00</th>\n",
       "      <td id=\"T_c5091_row1_col0\" class=\"data row1 col0\" >nan%</td>\n",
       "      <td id=\"T_c5091_row1_col1\" class=\"data row1 col1\" >0.54%</td>\n",
       "      <td id=\"T_c5091_row1_col2\" class=\"data row1 col2\" >1.30%</td>\n",
       "      <td id=\"T_c5091_row1_col3\" class=\"data row1 col3\" >2.35%</td>\n",
       "      <td id=\"T_c5091_row1_col4\" class=\"data row1 col4\" >3.47%</td>\n",
       "    </tr>\n",
       "    <tr>\n",
       "      <th id=\"T_c5091_level0_row2\" class=\"row_heading level0 row2\" >2012-01-31 00:00:00</th>\n",
       "      <td id=\"T_c5091_row2_col0\" class=\"data row2 col0\" >nan%</td>\n",
       "      <td id=\"T_c5091_row2_col1\" class=\"data row2 col1\" >0.22%</td>\n",
       "      <td id=\"T_c5091_row2_col2\" class=\"data row2 col2\" >0.38%</td>\n",
       "      <td id=\"T_c5091_row2_col3\" class=\"data row2 col3\" >0.75%</td>\n",
       "      <td id=\"T_c5091_row2_col4\" class=\"data row2 col4\" >1.36%</td>\n",
       "    </tr>\n",
       "  </tbody>\n",
       "</table>\n"
      ],
      "text/plain": [
       "<pandas.io.formats.style.Styler at 0x20d47793560>"
      ]
     },
     "execution_count": 26,
     "metadata": {},
     "output_type": "execute_result"
    }
   ],
   "source": [
    "fwd_rate[[\"2010-01-29\", \"2011-01-31\", \"2012-01-31\"]].T.style.format(\"{:.2%}\")"
   ]
  },
  {
   "cell_type": "markdown",
   "metadata": {},
   "source": [
    "### 10. (5pts)\n",
    "\n",
    "As of `2012-01-31`, is the two-year continuously-compoounded spot rate, $r(0,2)$ higher or lower than the forward rate calculated above for `2010-01-29`?\n",
    "\n",
    "Is this surprising?"
   ]
  },
  {
   "cell_type": "markdown",
   "metadata": {},
   "source": [
    "***"
   ]
  },
  {
   "cell_type": "markdown",
   "metadata": {},
   "source": [
    "# 4. The Swap-Spread"
   ]
  },
  {
   "cell_type": "markdown",
   "metadata": {},
   "source": [
    "Consider the market data below. \n",
    "* It refers to **20-year** T-bonds and swaps.\n",
    "* Assume the T-bond has exactly 20-years to maturity, with a coupon that exactly matches the YTM below."
   ]
  },
  {
   "cell_type": "code",
   "execution_count": 27,
   "metadata": {},
   "outputs": [
    {
     "data": {
      "text/html": [
       "<style type=\"text/css\">\n",
       "</style>\n",
       "<table id=\"T_381d6\">\n",
       "  <thead>\n",
       "    <tr>\n",
       "      <th class=\"blank level0\" >&nbsp;</th>\n",
       "      <th id=\"T_381d6_level0_col0\" class=\"col_heading level0 col0\" >Nov 2018</th>\n",
       "      <th id=\"T_381d6_level0_col1\" class=\"col_heading level0 col1\" >Nov 2023</th>\n",
       "    </tr>\n",
       "  </thead>\n",
       "  <tbody>\n",
       "    <tr>\n",
       "      <th id=\"T_381d6_level0_row0\" class=\"row_heading level0 row0\" >YTM</th>\n",
       "      <td id=\"T_381d6_row0_col0\" class=\"data row0 col0\" >3.1480%</td>\n",
       "      <td id=\"T_381d6_row0_col1\" class=\"data row0 col1\" >4.6670%</td>\n",
       "    </tr>\n",
       "    <tr>\n",
       "      <th id=\"T_381d6_level0_row1\" class=\"row_heading level0 row1\" >swap rate</th>\n",
       "      <td id=\"T_381d6_row1_col0\" class=\"data row1 col0\" >2.7639%</td>\n",
       "      <td id=\"T_381d6_row1_col1\" class=\"data row1 col1\" >3.9895%</td>\n",
       "    </tr>\n",
       "  </tbody>\n",
       "</table>\n"
      ],
      "text/plain": [
       "<pandas.io.formats.style.Styler at 0x20d4740acc0>"
      ]
     },
     "execution_count": 27,
     "metadata": {},
     "output_type": "execute_result"
    }
   ],
   "source": [
    "summary = pd.DataFrame(index=['YTM','swap rate'],columns = ['Nov 2018','Nov 2023'],dtype=float)\n",
    "summary.loc['YTM'] = [.031480, .046670]\n",
    "summary.loc['swap rate'] = [.027639,.039895]\n",
    "summary.style.format('{:.4%}')"
   ]
  },
  {
   "cell_type": "markdown",
   "metadata": {},
   "source": [
    "### 4.1. (5pts)\n",
    "\n",
    "Consider `Nov 2018`. Suppose you enter into a swap-spread trade.\n",
    "* You go long \\$100 million **market value** of 20-year T-bonds.\n",
    "* You simultaneously enter a 20-year swap, paying-fixed, with notional of \\$100 million.\n",
    "\n",
    "\n",
    "Report the \n",
    "* price of the T-bond in Nov 2018.\n",
    "* amount of T-bonds purchased, (each face value of 100)."
   ]
  },
  {
   "cell_type": "code",
   "execution_count": 28,
   "metadata": {},
   "outputs": [
    {
     "data": {
      "text/html": [
       "<style type=\"text/css\">\n",
       "</style>\n",
       "<table id=\"T_c3e15\">\n",
       "  <thead>\n",
       "    <tr>\n",
       "      <th class=\"blank level0\" >&nbsp;</th>\n",
       "      <th id=\"T_c3e15_level0_col0\" class=\"col_heading level0 col0\" >Duration</th>\n",
       "      <th id=\"T_c3e15_level0_col1\" class=\"col_heading level0 col1\" >Hedge Ratio</th>\n",
       "      <th id=\"T_c3e15_level0_col2\" class=\"col_heading level0 col2\" >Position</th>\n",
       "      <th id=\"T_c3e15_level0_col3\" class=\"col_heading level0 col3\" >Contracts</th>\n",
       "    </tr>\n",
       "  </thead>\n",
       "  <tbody>\n",
       "    <tr>\n",
       "      <th id=\"T_c3e15_level0_row0\" class=\"row_heading level0 row0\" >T-Bond</th>\n",
       "      <td id=\"T_c3e15_row0_col0\" class=\"data row0 col0\" >14.9901</td>\n",
       "      <td id=\"T_c3e15_row0_col1\" class=\"data row0 col1\" >1.0000</td>\n",
       "      <td id=\"T_c3e15_row0_col2\" class=\"data row0 col2\" >100,000,000.00</td>\n",
       "      <td id=\"T_c3e15_row0_col3\" class=\"data row0 col3\" >1,000,000.00</td>\n",
       "    </tr>\n",
       "    <tr>\n",
       "      <th id=\"T_c3e15_level0_row1\" class=\"row_heading level0 row1\" >Swap</th>\n",
       "      <td id=\"T_c3e15_row1_col0\" class=\"data row1 col0\" >15.4965</td>\n",
       "      <td id=\"T_c3e15_row1_col1\" class=\"data row1 col1\" >-1.0000</td>\n",
       "      <td id=\"T_c3e15_row1_col2\" class=\"data row1 col2\" >-100,000,000.00</td>\n",
       "      <td id=\"T_c3e15_row1_col3\" class=\"data row1 col3\" >-1,000,000.00</td>\n",
       "    </tr>\n",
       "  </tbody>\n",
       "</table>\n"
      ],
      "text/plain": [
       "<pandas.io.formats.style.Styler at 0x20d4768a720>"
      ]
     },
     "execution_count": 28,
     "metadata": {},
     "output_type": "execute_result"
    }
   ],
   "source": [
    "long_position = 100e6\n",
    "\n",
    "duration_t_bond = hf.duration_closed_formula(tau = 20, ytm = summary.loc['YTM', \"Nov 2018\"] , cpnrate=summary.loc['YTM', \"Nov 2018\"] , freq=2)\n",
    "duration_swap = hf.duration_closed_formula(tau = 20, ytm = summary.loc['swap rate', \"Nov 2018\"] , cpnrate=summary.loc['swap rate', \"Nov 2018\"] , freq=2)\n",
    "\n",
    "# hedge_ratio = -duration_t_bond / duration_swap\n",
    "hedge_ratio = -1\n",
    "short_position = long_position * hedge_ratio\n",
    "\n",
    "contract_t_bond = long_position / 100\n",
    "contract_swap = short_position / 100\n",
    "\n",
    "summary2 = pd.DataFrame(index=['T-Bond','Swap'],columns = ['Duration','Hedge Ratio','Position','Contracts'],dtype=float)\n",
    "summary2.loc['T-Bond'] = [duration_t_bond, 1, long_position, contract_t_bond]\n",
    "summary2.loc['Swap'] = [duration_swap, hedge_ratio, short_position, contract_swap]\n",
    "summary2.style.format({'Duration':'{:.4f}','Hedge Ratio':'{:.4f}','Position':'{:,.2f}','Contracts':'{:,.2f}'})\n"
   ]
  },
  {
   "cell_type": "markdown",
   "metadata": {},
   "source": [
    "### 4.2. (5pts)\n",
    "\n",
    "Report the first cashflow of the trade, in May 2019.\n",
    "\n",
    "For simplicity, \n",
    "* assume the swap pays semiannually, at the same date the T-bond pays coupons.\n",
    "* the repo rate involved in the trade cancels out with the floating rate of the swap.\n",
    "* the repo term is semiannually, corresponding to the coupon and swap dates.\n",
    "* there are not any margin calls or distributions in the discussion below.\n",
    "\n",
    "If the haircut is 4\\% to repo the T-bonds, then what is the May 2019 cashflow as a percentage of the equity capital in the position?"
   ]
  },
  {
   "cell_type": "code",
   "execution_count": 29,
   "metadata": {},
   "outputs": [
    {
     "data": {
      "text/html": [
       "<style type=\"text/css\">\n",
       "</style>\n",
       "<table id=\"T_df4ea\">\n",
       "  <thead>\n",
       "    <tr>\n",
       "      <th class=\"blank level0\" >&nbsp;</th>\n",
       "      <th id=\"T_df4ea_level0_col0\" class=\"col_heading level0 col0\" >Duration</th>\n",
       "      <th id=\"T_df4ea_level0_col1\" class=\"col_heading level0 col1\" >Hedge Ratio</th>\n",
       "      <th id=\"T_df4ea_level0_col2\" class=\"col_heading level0 col2\" >Position</th>\n",
       "      <th id=\"T_df4ea_level0_col3\" class=\"col_heading level0 col3\" >Contracts</th>\n",
       "      <th id=\"T_df4ea_level0_col4\" class=\"col_heading level0 col4\" >Coupon_CF</th>\n",
       "      <th id=\"T_df4ea_level0_col5\" class=\"col_heading level0 col5\" >Return</th>\n",
       "    </tr>\n",
       "  </thead>\n",
       "  <tbody>\n",
       "    <tr>\n",
       "      <th id=\"T_df4ea_level0_row0\" class=\"row_heading level0 row0\" >T-Bond</th>\n",
       "      <td id=\"T_df4ea_row0_col0\" class=\"data row0 col0\" >14.9901</td>\n",
       "      <td id=\"T_df4ea_row0_col1\" class=\"data row0 col1\" >1.0000</td>\n",
       "      <td id=\"T_df4ea_row0_col2\" class=\"data row0 col2\" >100,000,000.00</td>\n",
       "      <td id=\"T_df4ea_row0_col3\" class=\"data row0 col3\" >1,000,000.00</td>\n",
       "      <td id=\"T_df4ea_row0_col4\" class=\"data row0 col4\" >1,574,000.00</td>\n",
       "      <td id=\"T_df4ea_row0_col5\" class=\"data row0 col5\" >nan%</td>\n",
       "    </tr>\n",
       "    <tr>\n",
       "      <th id=\"T_df4ea_level0_row1\" class=\"row_heading level0 row1\" >Swap</th>\n",
       "      <td id=\"T_df4ea_row1_col0\" class=\"data row1 col0\" >15.4965</td>\n",
       "      <td id=\"T_df4ea_row1_col1\" class=\"data row1 col1\" >-1.0000</td>\n",
       "      <td id=\"T_df4ea_row1_col2\" class=\"data row1 col2\" >-100,000,000.00</td>\n",
       "      <td id=\"T_df4ea_row1_col3\" class=\"data row1 col3\" >-1,000,000.00</td>\n",
       "      <td id=\"T_df4ea_row1_col4\" class=\"data row1 col4\" >-1,381,950.00</td>\n",
       "      <td id=\"T_df4ea_row1_col5\" class=\"data row1 col5\" >nan%</td>\n",
       "    </tr>\n",
       "    <tr>\n",
       "      <th id=\"T_df4ea_level0_row2\" class=\"row_heading level0 row2\" >Net</th>\n",
       "      <td id=\"T_df4ea_row2_col0\" class=\"data row2 col0\" >nan</td>\n",
       "      <td id=\"T_df4ea_row2_col1\" class=\"data row2 col1\" >nan</td>\n",
       "      <td id=\"T_df4ea_row2_col2\" class=\"data row2 col2\" >nan</td>\n",
       "      <td id=\"T_df4ea_row2_col3\" class=\"data row2 col3\" >nan</td>\n",
       "      <td id=\"T_df4ea_row2_col4\" class=\"data row2 col4\" >192,050.00</td>\n",
       "      <td id=\"T_df4ea_row2_col5\" class=\"data row2 col5\" >4.80%</td>\n",
       "    </tr>\n",
       "  </tbody>\n",
       "</table>\n"
      ],
      "text/plain": [
       "<pandas.io.formats.style.Styler at 0x20d477933b0>"
      ]
     },
     "execution_count": 29,
     "metadata": {},
     "output_type": "execute_result"
    }
   ],
   "source": [
    "haircut = 0.04\n",
    "\n",
    "coupon_t_bond = summary.loc['YTM', \"Nov 2018\"]/2\n",
    "coupon_swap = summary.loc['swap rate', \"Nov 2018\"]/2\n",
    "\n",
    "summary2.loc[\"T-Bond\", \"Coupon_CF\"] = coupon_t_bond*summary2.loc[\"T-Bond\", \"Position\"]\n",
    "summary2.loc[\"Swap\", \"Coupon_CF\"] = coupon_swap*summary2.loc[\"Swap\", \"Position\"]\n",
    "summary2.loc[\"Net\", \"Coupon_CF\"] = summary2.loc[\"T-Bond\", \"Coupon_CF\"] + summary2.loc[\"Swap\", \"Coupon_CF\"]\n",
    "summary2.loc[\"Net\", \"Return\"] = summary2.loc[\"Net\", \"Coupon_CF\"]/(haircut*long_position)\n",
    "\n",
    "summary2.style.format({'Duration':'{:.4f}','Hedge Ratio':'{:.4f}','Position':'{:,.2f}','Contracts':'{:,.2f}','Coupon_CF':'{:,.2f}','Return':'{:.2%}'})"
   ]
  },
  {
   "cell_type": "markdown",
   "metadata": {},
   "source": [
    "### 4.3. (5pts)\n",
    "\n",
    "Report the risk of the trade.\n",
    "* Duration and dollar duration for the T-bond\n",
    "* Duration and dollar duration for the swap\n",
    "\n",
    "Note that you are reporting the usual, Macauley, duration--not the modified duration. \n",
    "\n",
    "For each of these duration calculations, use only the YTM and swap rates--no need for a discount curve."
   ]
  },
  {
   "cell_type": "code",
   "execution_count": 30,
   "metadata": {},
   "outputs": [
    {
     "data": {
      "text/plain": [
       "T-Bond    14.990104\n",
       "Swap      15.496528\n",
       "Net             NaN\n",
       "Name: Duration, dtype: float64"
      ]
     },
     "execution_count": 30,
     "metadata": {},
     "output_type": "execute_result"
    }
   ],
   "source": [
    "summary2[\"Duration\"]"
   ]
  },
  {
   "cell_type": "markdown",
   "metadata": {},
   "source": [
    "### 4.4. (5pts)\n",
    "\n",
    "Use **modified** duration to answer the following:\n",
    "\n",
    "* What is the expected profit and loss if the swap-spread goes to zero?\n",
    "* What return would this be relative to the initial equity capital to put on the position?\n",
    "\n",
    "#### Note:\n",
    "We refer to the spread (swap-rate minus T-bond YTM) going to zero symmetrically (the YTM falls and swap rate rise equally until converging.)"
   ]
  },
  {
   "cell_type": "code",
   "execution_count": 36,
   "metadata": {},
   "outputs": [],
   "source": [
    "summary2.loc[\"T-Bond\", \"YTM\"] = summary.loc['YTM', \"Nov 2018\"]\n",
    "summary2.loc[\"Swap\", \"YTM\"] = summary.loc['swap rate', \"Nov 2018\"]\n",
    "\n",
    "summary2.loc[\"T-Bond\", \"Modified Duration\"] = summary2.loc[\"T-Bond\", \"Duration\"] / (1 + summary2.loc[\"T-Bond\", \"YTM\"]/2)\n",
    "summary2.loc[\"Swap\", \"Modified Duration\"] = summary2.loc[\"Swap\", \"Duration\"] / (1 + summary2.loc[\"Swap\", \"YTM\"]/2)\n",
    "\n",
    "swap_spread = summary.loc['swap rate', \"Nov 2018\"] - summary.loc['YTM', \"Nov 2018\"] \n",
    "\n",
    "summary2.loc[\"Swap\", \"Delta rate\"] = swap_spread/2\n",
    "summary2.loc[\"T-Bond\", \"Delta rate\"] = -swap_spread/2\n",
    "\n",
    "summary2[\"Change in Dirty Price\"] = summary2[\"Modified Duration\"] * summary2[\"Delta rate\"] * 100 *  summary2[\"Contracts\"]\n",
    "summary2.loc[\"Net\", \"Change in Dirty Price\"] = summary2[\"Change in Dirty Price\"].sum()\n",
    "summary2.loc[\"Net\", \"Return price\"] = summary2.loc[\"Net\", \"Change in Dirty Price\"]/(haircut*long_position)"
   ]
  },
  {
   "cell_type": "code",
   "execution_count": 35,
   "metadata": {},
   "outputs": [
    {
     "data": {
      "text/plain": [
       "-0.38410000000000005"
      ]
     },
     "execution_count": 35,
     "metadata": {},
     "output_type": "execute_result"
    }
   ],
   "source": [
    "swap_spread*100"
   ]
  },
  {
   "cell_type": "code",
   "execution_count": 37,
   "metadata": {},
   "outputs": [
    {
     "data": {
      "text/html": [
       "<div>\n",
       "<style scoped>\n",
       "    .dataframe tbody tr th:only-of-type {\n",
       "        vertical-align: middle;\n",
       "    }\n",
       "\n",
       "    .dataframe tbody tr th {\n",
       "        vertical-align: top;\n",
       "    }\n",
       "\n",
       "    .dataframe thead th {\n",
       "        text-align: right;\n",
       "    }\n",
       "</style>\n",
       "<table border=\"1\" class=\"dataframe\">\n",
       "  <thead>\n",
       "    <tr style=\"text-align: right;\">\n",
       "      <th></th>\n",
       "      <th>Duration</th>\n",
       "      <th>Hedge Ratio</th>\n",
       "      <th>Position</th>\n",
       "      <th>Contracts</th>\n",
       "      <th>Coupon_CF</th>\n",
       "      <th>Return</th>\n",
       "      <th>YTM</th>\n",
       "      <th>Modified Duration</th>\n",
       "      <th>Delta rate</th>\n",
       "      <th>Change in Dirty Price</th>\n",
       "      <th>Return price</th>\n",
       "    </tr>\n",
       "  </thead>\n",
       "  <tbody>\n",
       "    <tr>\n",
       "      <th>T-Bond</th>\n",
       "      <td>14.990104</td>\n",
       "      <td>1.0</td>\n",
       "      <td>100000000.0</td>\n",
       "      <td>1000000.0</td>\n",
       "      <td>1574000.0</td>\n",
       "      <td>NaN</td>\n",
       "      <td>0.031480</td>\n",
       "      <td>14.757816</td>\n",
       "      <td>0.001921</td>\n",
       "      <td>2.834239e+06</td>\n",
       "      <td>NaN</td>\n",
       "    </tr>\n",
       "    <tr>\n",
       "      <th>Swap</th>\n",
       "      <td>15.496528</td>\n",
       "      <td>-1.0</td>\n",
       "      <td>-100000000.0</td>\n",
       "      <td>-1000000.0</td>\n",
       "      <td>-1381950.0</td>\n",
       "      <td>NaN</td>\n",
       "      <td>0.027639</td>\n",
       "      <td>15.285293</td>\n",
       "      <td>-0.001921</td>\n",
       "      <td>2.935541e+06</td>\n",
       "      <td>NaN</td>\n",
       "    </tr>\n",
       "    <tr>\n",
       "      <th>Net</th>\n",
       "      <td>NaN</td>\n",
       "      <td>NaN</td>\n",
       "      <td>NaN</td>\n",
       "      <td>NaN</td>\n",
       "      <td>192050.0</td>\n",
       "      <td>0.048012</td>\n",
       "      <td>NaN</td>\n",
       "      <td>NaN</td>\n",
       "      <td>NaN</td>\n",
       "      <td>5.769779e+06</td>\n",
       "      <td>1.442445</td>\n",
       "    </tr>\n",
       "  </tbody>\n",
       "</table>\n",
       "</div>"
      ],
      "text/plain": [
       "         Duration  Hedge Ratio     Position  Contracts  Coupon_CF    Return  \\\n",
       "T-Bond  14.990104          1.0  100000000.0  1000000.0  1574000.0       NaN   \n",
       "Swap    15.496528         -1.0 -100000000.0 -1000000.0 -1381950.0       NaN   \n",
       "Net           NaN          NaN          NaN        NaN   192050.0  0.048012   \n",
       "\n",
       "             YTM  Modified Duration  Delta rate  Change in Dirty Price  \\\n",
       "T-Bond  0.031480          14.757816    0.001921           2.834239e+06   \n",
       "Swap    0.027639          15.285293   -0.001921           2.935541e+06   \n",
       "Net          NaN                NaN         NaN           5.769779e+06   \n",
       "\n",
       "        Return price  \n",
       "T-Bond           NaN  \n",
       "Swap             NaN  \n",
       "Net         1.442445  "
      ]
     },
     "execution_count": 37,
     "metadata": {},
     "output_type": "execute_result"
    }
   ],
   "source": [
    "summary2"
   ]
  },
  {
   "cell_type": "markdown",
   "metadata": {},
   "source": [
    "### 4.5. (10pts)\n",
    "\n",
    "Now it is `Nov 2023`. Use the market quotes to report...\n",
    "* the value of the long T-bond positions (15 years-to-maturity)\n",
    "* the value of the paying-fixed swap (15 years-to-expiration)\n",
    "* the net value of your position and return on your equity capital."
   ]
  },
  {
   "cell_type": "code",
   "execution_count": 82,
   "metadata": {},
   "outputs": [
    {
     "data": {
      "text/html": [
       "<div>\n",
       "<style scoped>\n",
       "    .dataframe tbody tr th:only-of-type {\n",
       "        vertical-align: middle;\n",
       "    }\n",
       "\n",
       "    .dataframe tbody tr th {\n",
       "        vertical-align: top;\n",
       "    }\n",
       "\n",
       "    .dataframe thead th {\n",
       "        text-align: right;\n",
       "    }\n",
       "</style>\n",
       "<table border=\"1\" class=\"dataframe\">\n",
       "  <thead>\n",
       "    <tr style=\"text-align: right;\">\n",
       "      <th></th>\n",
       "      <th>Nov 2018</th>\n",
       "      <th>Nov 2023</th>\n",
       "    </tr>\n",
       "  </thead>\n",
       "  <tbody>\n",
       "    <tr>\n",
       "      <th>YTM</th>\n",
       "      <td>0.031480</td>\n",
       "      <td>0.046670</td>\n",
       "    </tr>\n",
       "    <tr>\n",
       "      <th>swap rate</th>\n",
       "      <td>0.027639</td>\n",
       "      <td>0.039895</td>\n",
       "    </tr>\n",
       "  </tbody>\n",
       "</table>\n",
       "</div>"
      ],
      "text/plain": [
       "           Nov 2018  Nov 2023\n",
       "YTM        0.031480  0.046670\n",
       "swap rate  0.027639  0.039895"
      ]
     },
     "execution_count": 82,
     "metadata": {},
     "output_type": "execute_result"
    }
   ],
   "source": [
    "summary"
   ]
  },
  {
   "cell_type": "code",
   "execution_count": 38,
   "metadata": {},
   "outputs": [
    {
     "data": {
      "text/html": [
       "<style type=\"text/css\">\n",
       "</style>\n",
       "<table id=\"T_b0d20\">\n",
       "  <thead>\n",
       "    <tr>\n",
       "      <th class=\"blank level0\" >&nbsp;</th>\n",
       "      <th id=\"T_b0d20_level0_col0\" class=\"col_heading level0 col0\" >Contracts</th>\n",
       "      <th id=\"T_b0d20_level0_col1\" class=\"col_heading level0 col1\" >Delta Price</th>\n",
       "      <th id=\"T_b0d20_level0_col2\" class=\"col_heading level0 col2\" >Position Value</th>\n",
       "      <th id=\"T_b0d20_level0_col3\" class=\"col_heading level0 col3\" >Coupon Payment</th>\n",
       "      <th id=\"T_b0d20_level0_col4\" class=\"col_heading level0 col4\" >Coupon Value</th>\n",
       "      <th id=\"T_b0d20_level0_col5\" class=\"col_heading level0 col5\" >PnL</th>\n",
       "    </tr>\n",
       "  </thead>\n",
       "  <tbody>\n",
       "    <tr>\n",
       "      <th id=\"T_b0d20_level0_row0\" class=\"row_heading level0 row0\" >T-Bond</th>\n",
       "      <td id=\"T_b0d20_row0_col0\" class=\"data row0 col0\" >1,000,000.00</td>\n",
       "      <td id=\"T_b0d20_row0_col1\" class=\"data row0 col1\" >-16.26</td>\n",
       "      <td id=\"T_b0d20_row0_col2\" class=\"data row0 col2\" >-16,255,272.67</td>\n",
       "      <td id=\"T_b0d20_row0_col3\" class=\"data row0 col3\" >0.16</td>\n",
       "      <td id=\"T_b0d20_row0_col4\" class=\"data row0 col4\" >15,740,000.00</td>\n",
       "      <td id=\"T_b0d20_row0_col5\" class=\"data row0 col5\" >-515,272.67</td>\n",
       "    </tr>\n",
       "    <tr>\n",
       "      <th id=\"T_b0d20_level0_row1\" class=\"row_heading level0 row1\" >Swap</th>\n",
       "      <td id=\"T_b0d20_row1_col0\" class=\"data row1 col0\" >-1,000,000.00</td>\n",
       "      <td id=\"T_b0d20_row1_col1\" class=\"data row1 col1\" >-13.73</td>\n",
       "      <td id=\"T_b0d20_row1_col2\" class=\"data row1 col2\" >13,734,460.62</td>\n",
       "      <td id=\"T_b0d20_row1_col3\" class=\"data row1 col3\" >0.14</td>\n",
       "      <td id=\"T_b0d20_row1_col4\" class=\"data row1 col4\" >-13,819,500.00</td>\n",
       "      <td id=\"T_b0d20_row1_col5\" class=\"data row1 col5\" >-85,039.38</td>\n",
       "    </tr>\n",
       "    <tr>\n",
       "      <th id=\"T_b0d20_level0_row2\" class=\"row_heading level0 row2\" >Net</th>\n",
       "      <td id=\"T_b0d20_row2_col0\" class=\"data row2 col0\" >nan</td>\n",
       "      <td id=\"T_b0d20_row2_col1\" class=\"data row2 col1\" >nan</td>\n",
       "      <td id=\"T_b0d20_row2_col2\" class=\"data row2 col2\" >-2,520,812.04</td>\n",
       "      <td id=\"T_b0d20_row2_col3\" class=\"data row2 col3\" >nan</td>\n",
       "      <td id=\"T_b0d20_row2_col4\" class=\"data row2 col4\" >1,920,500.00</td>\n",
       "      <td id=\"T_b0d20_row2_col5\" class=\"data row2 col5\" >-600,312.04</td>\n",
       "    </tr>\n",
       "  </tbody>\n",
       "</table>\n"
      ],
      "text/plain": [
       "<pandas.io.formats.style.Styler at 0x20d47ebcbc0>"
      ]
     },
     "execution_count": 38,
     "metadata": {},
     "output_type": "execute_result"
    }
   ],
   "source": [
    "delta_t_bond_price = hf.price_treasury_ytm(time_to_maturity = 15, ytm = summary.loc[\"YTM\", \"Nov 2023\"], cpn_rate = summary.loc[\"YTM\", \"Nov 2018\"] ,freq=2,face=100) -100\n",
    "delta_swap_price = hf.price_treasury_ytm(time_to_maturity = 15, ytm = summary.loc[\"swap rate\", \"Nov 2023\"], cpn_rate = summary.loc[\"swap rate\", \"Nov 2018\"] ,freq=2,face=100) -100\n",
    "\n",
    "summary2.loc[\"T-Bond\", \"Delta Price\"] = delta_t_bond_price\n",
    "summary2.loc[\"Swap\", \"Delta Price\"] = delta_swap_price\n",
    "summary2[\"Position Value\"] =  summary2[ \"Contracts\"] * summary2[\"Delta Price\"]\n",
    "summary2.loc[\"Net\", \"Position Value\"] = summary2[\"Position Value\"].sum()\n",
    "\n",
    "summary2.loc[\"T-Bond\", \"Coupon Payment\"] = coupon_t_bond*5*2\n",
    "summary2.loc[\"Swap\", \"Coupon Payment\"] = coupon_swap*5*2\n",
    "summary2[\"Coupon Value\"] = summary2[\"Coupon Payment\"]*summary2[\"Position\"]\n",
    "summary2.loc[\"Net\", \"Coupon Value\"] = summary2[\"Coupon Value\"].sum()\n",
    "\n",
    "summary2[\"PnL\"] = summary2[\"Position Value\"] + summary2[\"Coupon Value\"]\n",
    "\n",
    "summary2[[\"Contracts\",\"Delta Price\",'Position Value',\"Coupon Payment\",'Coupon Value','PnL']].style.format(\"{:,.2f}\")"
   ]
  },
  {
   "cell_type": "markdown",
   "metadata": {},
   "source": [
    "### 4.6. (5pts)\n",
    "\n",
    "Assume there are no market frictions, and there is more credit risk in the swap than in the T-bond.\n",
    "\n",
    "In that case, is the swap-spread trade an arbitrage, a statistically favorable trade, both, or neither? \n",
    "\n",
    "Be specific whether your answer is for the long-term or short-term."
   ]
  },
  {
   "cell_type": "markdown",
   "metadata": {},
   "source": [
    "* Long-term: There is not risk involved, giving the YTM is going to generate profit if we hold until maturity\n",
    "\n",
    "* Short-term: statistical trade, depend on the spread evolving, we are shorting the swap spread"
   ]
  },
  {
   "cell_type": "markdown",
   "metadata": {},
   "source": [
    "***"
   ]
  }
 ],
 "metadata": {
  "hide_input": false,
  "kernelspec": {
   "display_name": "base",
   "language": "python",
   "name": "python3"
  },
  "language_info": {
   "codemirror_mode": {
    "name": "ipython",
    "version": 3
   },
   "file_extension": ".py",
   "mimetype": "text/x-python",
   "name": "python",
   "nbconvert_exporter": "python",
   "pygments_lexer": "ipython3",
   "version": "3.12.4"
  }
 },
 "nbformat": 4,
 "nbformat_minor": 4
}
